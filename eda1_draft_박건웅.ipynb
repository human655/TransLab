{
 "cells": [
  {
   "cell_type": "markdown",
   "metadata": {},
   "source": [
    "# Imports"
   ]
  },
  {
   "cell_type": "code",
   "execution_count": 1,
   "metadata": {},
   "outputs": [],
   "source": [
    "import pandas as pd\n",
    "import numpy as np\n",
    "import matplotlib.pyplot as plt\n",
    "import seaborn as sns"
   ]
  },
  {
   "cell_type": "code",
   "execution_count": 2,
   "metadata": {},
   "outputs": [],
   "source": [
    "# custom parameters\n",
    "pd.set_option('display.max_columns', None)"
   ]
  },
  {
   "cell_type": "markdown",
   "metadata": {},
   "source": [
    "# csv -> parquet 확장자 변환"
   ]
  },
  {
   "cell_type": "markdown",
   "metadata": {},
   "source": [
    "csv file로 불러오기"
   ]
  },
  {
   "cell_type": "code",
   "execution_count": 3,
   "metadata": {},
   "outputs": [],
   "source": [
    "# # 신규가입자합산 정보\n",
    "# df_newb = pd.read_csv('./data/원본/신규가입자합산값.csv')\n",
    "\n",
    "# # 대여이력 정보\n",
    "# df_rental22 = pd.read_csv('./data/원본/대여이력정보(일별)_2207-12.csv ')\n",
    "# df_rental23 = pd.read_csv('./data/원본/대여이력정보(일별)_2307-12.csv')\n",
    "\n",
    "# # 고장신고내역\n",
    "# df_broken22 = pd.read_csv('./data/원본/고장신고내역(일별)_2207-12.csv')\n",
    "# df_broken23 = pd.read_csv('./data/원본/고장신고내역(일별)_2307-12.csv')"
   ]
  },
  {
   "cell_type": "markdown",
   "metadata": {},
   "source": [
    "대여이력 정보와 고장신고내역 각각 하나의 데이터프레임으로 병합"
   ]
  },
  {
   "cell_type": "code",
   "execution_count": 4,
   "metadata": {},
   "outputs": [],
   "source": [
    "# df_rental = pd.concat([df_rental22, df_rental23], axis=0)\n",
    "# df_broken = pd.concat([df_broken22, df_broken23], axis=0)"
   ]
  },
  {
   "cell_type": "markdown",
   "metadata": {},
   "source": [
    "parquet 파일로 확장자 변환"
   ]
  },
  {
   "cell_type": "code",
   "execution_count": 5,
   "metadata": {},
   "outputs": [],
   "source": [
    "# # pip3 install pyarrow\n",
    "# # pip3 install fastparquet\n",
    "# df_newb.to_parquet('./data/원본/parquet/신규가입자정보.parquet', engine='pyarrow', index=False)\n",
    "# df_rental.to_parquet('./data/원본/parquet/대여이력정보.parquet', engine='pyarrow', index=False)\n",
    "# df_broken.to_parquet('./data/원본/parquet/고장신고내역.parquet', engine='pyarrow', index=False)"
   ]
  },
  {
   "cell_type": "markdown",
   "metadata": {},
   "source": [
    "# 데이터 불러오기"
   ]
  },
  {
   "cell_type": "code",
   "execution_count": 6,
   "metadata": {},
   "outputs": [],
   "source": [
    "df_newb = pd.read_parquet('./data/원본/parquet/신규가입자정보.parquet', engine='pyarrow')\n",
    "df_rental = pd.read_parquet('./data/원본/parquet/대여이력정보.parquet', engine='pyarrow')\n",
    "df_broken = pd.read_parquet('./data/원본/parquet/고장신고내역.parquet', engine='pyarrow')"
   ]
  },
  {
   "cell_type": "markdown",
   "metadata": {},
   "source": [
    "신규가입자 정보"
   ]
  },
  {
   "cell_type": "code",
   "execution_count": 7,
   "metadata": {},
   "outputs": [
    {
     "data": {
      "text/html": [
       "<div>\n",
       "<style scoped>\n",
       "    .dataframe tbody tr th:only-of-type {\n",
       "        vertical-align: middle;\n",
       "    }\n",
       "\n",
       "    .dataframe tbody tr th {\n",
       "        vertical-align: top;\n",
       "    }\n",
       "\n",
       "    .dataframe thead th {\n",
       "        text-align: right;\n",
       "    }\n",
       "</style>\n",
       "<table border=\"1\" class=\"dataframe\">\n",
       "  <thead>\n",
       "    <tr style=\"text-align: right;\">\n",
       "      <th></th>\n",
       "      <th>가입일시</th>\n",
       "      <th>가입건수</th>\n",
       "      <th>year</th>\n",
       "    </tr>\n",
       "  </thead>\n",
       "  <tbody>\n",
       "    <tr>\n",
       "      <th>0</th>\n",
       "      <td>202207</td>\n",
       "      <td>56393</td>\n",
       "      <td>2022</td>\n",
       "    </tr>\n",
       "    <tr>\n",
       "      <th>1</th>\n",
       "      <td>202208</td>\n",
       "      <td>53853</td>\n",
       "      <td>2022</td>\n",
       "    </tr>\n",
       "    <tr>\n",
       "      <th>2</th>\n",
       "      <td>202209</td>\n",
       "      <td>81574</td>\n",
       "      <td>2022</td>\n",
       "    </tr>\n",
       "    <tr>\n",
       "      <th>3</th>\n",
       "      <td>202210</td>\n",
       "      <td>62511</td>\n",
       "      <td>2022</td>\n",
       "    </tr>\n",
       "    <tr>\n",
       "      <th>4</th>\n",
       "      <td>202211</td>\n",
       "      <td>36600</td>\n",
       "      <td>2022</td>\n",
       "    </tr>\n",
       "    <tr>\n",
       "      <th>5</th>\n",
       "      <td>202212</td>\n",
       "      <td>11530</td>\n",
       "      <td>2022</td>\n",
       "    </tr>\n",
       "    <tr>\n",
       "      <th>6</th>\n",
       "      <td>202307</td>\n",
       "      <td>42649</td>\n",
       "      <td>2023</td>\n",
       "    </tr>\n",
       "    <tr>\n",
       "      <th>7</th>\n",
       "      <td>202308</td>\n",
       "      <td>41346</td>\n",
       "      <td>2023</td>\n",
       "    </tr>\n",
       "    <tr>\n",
       "      <th>8</th>\n",
       "      <td>202309</td>\n",
       "      <td>61111</td>\n",
       "      <td>2023</td>\n",
       "    </tr>\n",
       "    <tr>\n",
       "      <th>9</th>\n",
       "      <td>202310</td>\n",
       "      <td>66836</td>\n",
       "      <td>2023</td>\n",
       "    </tr>\n",
       "    <tr>\n",
       "      <th>10</th>\n",
       "      <td>202311</td>\n",
       "      <td>21743</td>\n",
       "      <td>2023</td>\n",
       "    </tr>\n",
       "    <tr>\n",
       "      <th>11</th>\n",
       "      <td>202312</td>\n",
       "      <td>13344</td>\n",
       "      <td>2023</td>\n",
       "    </tr>\n",
       "  </tbody>\n",
       "</table>\n",
       "</div>"
      ],
      "text/plain": [
       "      가입일시   가입건수  year\n",
       "0   202207  56393  2022\n",
       "1   202208  53853  2022\n",
       "2   202209  81574  2022\n",
       "3   202210  62511  2022\n",
       "4   202211  36600  2022\n",
       "5   202212  11530  2022\n",
       "6   202307  42649  2023\n",
       "7   202308  41346  2023\n",
       "8   202309  61111  2023\n",
       "9   202310  66836  2023\n",
       "10  202311  21743  2023\n",
       "11  202312  13344  2023"
      ]
     },
     "execution_count": 7,
     "metadata": {},
     "output_type": "execute_result"
    }
   ],
   "source": [
    "df_newb"
   ]
  },
  {
   "cell_type": "markdown",
   "metadata": {},
   "source": [
    "대여이력 정보\n",
    "\n",
    "내용이 너무 많아서 20%만 샘플링해서 진행"
   ]
  },
  {
   "cell_type": "code",
   "execution_count": 8,
   "metadata": {},
   "outputs": [
    {
     "data": {
      "text/html": [
       "<div>\n",
       "<style scoped>\n",
       "    .dataframe tbody tr th:only-of-type {\n",
       "        vertical-align: middle;\n",
       "    }\n",
       "\n",
       "    .dataframe tbody tr th {\n",
       "        vertical-align: top;\n",
       "    }\n",
       "\n",
       "    .dataframe thead th {\n",
       "        text-align: right;\n",
       "    }\n",
       "</style>\n",
       "<table border=\"1\" class=\"dataframe\">\n",
       "  <thead>\n",
       "    <tr style=\"text-align: right;\">\n",
       "      <th></th>\n",
       "      <th>자전거번호</th>\n",
       "      <th>대여일시</th>\n",
       "      <th>대여 대여소번호</th>\n",
       "      <th>대여 대여소명</th>\n",
       "      <th>대여거치대</th>\n",
       "      <th>반납일시</th>\n",
       "      <th>반납대여소번호</th>\n",
       "      <th>반납대여소명</th>\n",
       "      <th>반납거치대</th>\n",
       "      <th>이용시간(분)</th>\n",
       "      <th>이용거리(M)</th>\n",
       "      <th>생년</th>\n",
       "      <th>성별</th>\n",
       "      <th>이용자종류</th>\n",
       "      <th>대여대여소ID</th>\n",
       "      <th>반납대여소ID</th>\n",
       "      <th>자전거구분</th>\n",
       "    </tr>\n",
       "  </thead>\n",
       "  <tbody>\n",
       "    <tr>\n",
       "      <th>19030019</th>\n",
       "      <td>SPB-39992</td>\n",
       "      <td>2022-11-10 23:09:05</td>\n",
       "      <td>1124</td>\n",
       "      <td>발산역 6번 출구 뒤</td>\n",
       "      <td>0</td>\n",
       "      <td>2022-11-11 00:46:01</td>\n",
       "      <td>00162</td>\n",
       "      <td>봉원고가차도 밑</td>\n",
       "      <td>0</td>\n",
       "      <td>96</td>\n",
       "      <td>14120.01</td>\n",
       "      <td>1975</td>\n",
       "      <td>F</td>\n",
       "      <td>내국인</td>\n",
       "      <td>ST-522</td>\n",
       "      <td>ST-219</td>\n",
       "      <td>None</td>\n",
       "    </tr>\n",
       "    <tr>\n",
       "      <th>16698934</th>\n",
       "      <td>SPB-39988</td>\n",
       "      <td>2022-10-26 17:00:50</td>\n",
       "      <td>3571</td>\n",
       "      <td>화양 APT(횡단보도 옆)</td>\n",
       "      <td>0</td>\n",
       "      <td>2022-10-26 17:14:44</td>\n",
       "      <td>03569</td>\n",
       "      <td>건대병원후문</td>\n",
       "      <td>0</td>\n",
       "      <td>13</td>\n",
       "      <td>1030.44</td>\n",
       "      <td>2002</td>\n",
       "      <td>\\N</td>\n",
       "      <td>내국인</td>\n",
       "      <td>ST-2310</td>\n",
       "      <td>ST-2308</td>\n",
       "      <td>None</td>\n",
       "    </tr>\n",
       "    <tr>\n",
       "      <th>8710569</th>\n",
       "      <td>SPB-50825</td>\n",
       "      <td>2022-09-06 19:17:39</td>\n",
       "      <td>1158</td>\n",
       "      <td>가양역 8번출구</td>\n",
       "      <td>0</td>\n",
       "      <td>2022-09-06 19:24:06</td>\n",
       "      <td>01182</td>\n",
       "      <td>KBS 스포츠월드</td>\n",
       "      <td>0</td>\n",
       "      <td>6</td>\n",
       "      <td>887.81</td>\n",
       "      <td>1991</td>\n",
       "      <td>\\N</td>\n",
       "      <td>내국인</td>\n",
       "      <td>ST-1249</td>\n",
       "      <td>ST-1519</td>\n",
       "      <td>None</td>\n",
       "    </tr>\n",
       "    <tr>\n",
       "      <th>1929187</th>\n",
       "      <td>SPB-52800</td>\n",
       "      <td>2022-07-15 06:54:34</td>\n",
       "      <td>720</td>\n",
       "      <td>서울강월초등학교 앞</td>\n",
       "      <td>0</td>\n",
       "      <td>2022-07-15 07:36:49</td>\n",
       "      <td>01102</td>\n",
       "      <td>방화사거리 마을버스 버스정류장</td>\n",
       "      <td>0</td>\n",
       "      <td>42</td>\n",
       "      <td>7356.28</td>\n",
       "      <td>1989</td>\n",
       "      <td>F</td>\n",
       "      <td>내국인</td>\n",
       "      <td>ST-432</td>\n",
       "      <td>ST-508</td>\n",
       "      <td>None</td>\n",
       "    </tr>\n",
       "    <tr>\n",
       "      <th>20404772</th>\n",
       "      <td>SPB-53662</td>\n",
       "      <td>2022-11-21 12:56:34</td>\n",
       "      <td>1440</td>\n",
       "      <td>면목2동 사거리</td>\n",
       "      <td>0</td>\n",
       "      <td>2022-11-21 13:50:41</td>\n",
       "      <td>01440</td>\n",
       "      <td>면목2동 사거리</td>\n",
       "      <td>0</td>\n",
       "      <td>54</td>\n",
       "      <td>0.00</td>\n",
       "      <td>1989</td>\n",
       "      <td>F</td>\n",
       "      <td>내국인</td>\n",
       "      <td>ST-942</td>\n",
       "      <td>ST-942</td>\n",
       "      <td>None</td>\n",
       "    </tr>\n",
       "    <tr>\n",
       "      <th>...</th>\n",
       "      <td>...</td>\n",
       "      <td>...</td>\n",
       "      <td>...</td>\n",
       "      <td>...</td>\n",
       "      <td>...</td>\n",
       "      <td>...</td>\n",
       "      <td>...</td>\n",
       "      <td>...</td>\n",
       "      <td>...</td>\n",
       "      <td>...</td>\n",
       "      <td>...</td>\n",
       "      <td>...</td>\n",
       "      <td>...</td>\n",
       "      <td>...</td>\n",
       "      <td>...</td>\n",
       "      <td>...</td>\n",
       "      <td>...</td>\n",
       "    </tr>\n",
       "    <tr>\n",
       "      <th>23659877</th>\n",
       "      <td>SPB-63489</td>\n",
       "      <td>2023-07-03 11:28:50</td>\n",
       "      <td>1195</td>\n",
       "      <td>코오롱One&amp;Only타워</td>\n",
       "      <td>0</td>\n",
       "      <td>2023-07-03 11:34:48</td>\n",
       "      <td>02715</td>\n",
       "      <td>마곡나루역 2번 출구</td>\n",
       "      <td>0</td>\n",
       "      <td>5</td>\n",
       "      <td>900.00</td>\n",
       "      <td>1998</td>\n",
       "      <td>\\N</td>\n",
       "      <td>내국인</td>\n",
       "      <td>ST-1712</td>\n",
       "      <td>ST-2031</td>\n",
       "      <td>일반자전거</td>\n",
       "    </tr>\n",
       "    <tr>\n",
       "      <th>7463799</th>\n",
       "      <td>SPB-44935</td>\n",
       "      <td>2022-08-27 17:40:58</td>\n",
       "      <td>1246</td>\n",
       "      <td>문정 법조단지10</td>\n",
       "      <td>0</td>\n",
       "      <td>2022-08-27 17:43:28</td>\n",
       "      <td>01246</td>\n",
       "      <td>문정 법조단지10</td>\n",
       "      <td>0</td>\n",
       "      <td>2</td>\n",
       "      <td>0.00</td>\n",
       "      <td>1998</td>\n",
       "      <td>\\N</td>\n",
       "      <td>내국인</td>\n",
       "      <td>ST-906</td>\n",
       "      <td>ST-906</td>\n",
       "      <td>None</td>\n",
       "    </tr>\n",
       "    <tr>\n",
       "      <th>20011494</th>\n",
       "      <td>SPB-65752</td>\n",
       "      <td>2022-11-18 15:11:09</td>\n",
       "      <td>755</td>\n",
       "      <td>목동1단지아파트 상가 앞</td>\n",
       "      <td>0</td>\n",
       "      <td>2022-11-18 15:20:01</td>\n",
       "      <td>00769</td>\n",
       "      <td>CBS방송국 앞</td>\n",
       "      <td>0</td>\n",
       "      <td>8</td>\n",
       "      <td>1450.00</td>\n",
       "      <td>1972</td>\n",
       "      <td>\\N</td>\n",
       "      <td>내국인</td>\n",
       "      <td>ST-1496</td>\n",
       "      <td>ST-1995</td>\n",
       "      <td>None</td>\n",
       "    </tr>\n",
       "    <tr>\n",
       "      <th>25300035</th>\n",
       "      <td>SPB-65234</td>\n",
       "      <td>2023-07-16 22:09:31</td>\n",
       "      <td>3534</td>\n",
       "      <td>건대입구역 5번출구 뒤</td>\n",
       "      <td>0</td>\n",
       "      <td>2023-07-16 22:23:25</td>\n",
       "      <td>03575</td>\n",
       "      <td>자양사거리(서원빌딩)</td>\n",
       "      <td>0</td>\n",
       "      <td>13</td>\n",
       "      <td>1180.00</td>\n",
       "      <td>1989</td>\n",
       "      <td>F</td>\n",
       "      <td>내국인</td>\n",
       "      <td>ST-1661</td>\n",
       "      <td>ST-2314</td>\n",
       "      <td>일반자전거</td>\n",
       "    </tr>\n",
       "    <tr>\n",
       "      <th>3434788</th>\n",
       "      <td>SPB-56181</td>\n",
       "      <td>2022-07-25 19:55:52</td>\n",
       "      <td>4531</td>\n",
       "      <td>목동아파트 613동 앞</td>\n",
       "      <td>0</td>\n",
       "      <td>2022-07-25 20:39:35</td>\n",
       "      <td>00255</td>\n",
       "      <td>도림사거리</td>\n",
       "      <td>0</td>\n",
       "      <td>43</td>\n",
       "      <td>5930.00</td>\n",
       "      <td>1967</td>\n",
       "      <td>F</td>\n",
       "      <td>내국인</td>\n",
       "      <td>ST-2844</td>\n",
       "      <td>ST-303</td>\n",
       "      <td>None</td>\n",
       "    </tr>\n",
       "  </tbody>\n",
       "</table>\n",
       "<p>9475055 rows × 17 columns</p>\n",
       "</div>"
      ],
      "text/plain": [
       "              자전거번호                 대여일시  대여 대여소번호         대여 대여소명  대여거치대  \\\n",
       "19030019  SPB-39992  2022-11-10 23:09:05      1124     발산역 6번 출구 뒤      0   \n",
       "16698934  SPB-39988  2022-10-26 17:00:50      3571  화양 APT(횡단보도 옆)      0   \n",
       "8710569   SPB-50825  2022-09-06 19:17:39      1158        가양역 8번출구      0   \n",
       "1929187   SPB-52800  2022-07-15 06:54:34       720      서울강월초등학교 앞      0   \n",
       "20404772  SPB-53662  2022-11-21 12:56:34      1440        면목2동 사거리      0   \n",
       "...             ...                  ...       ...             ...    ...   \n",
       "23659877  SPB-63489  2023-07-03 11:28:50      1195   코오롱One&Only타워      0   \n",
       "7463799   SPB-44935  2022-08-27 17:40:58      1246       문정 법조단지10      0   \n",
       "20011494  SPB-65752  2022-11-18 15:11:09       755   목동1단지아파트 상가 앞      0   \n",
       "25300035  SPB-65234  2023-07-16 22:09:31      3534    건대입구역 5번출구 뒤      0   \n",
       "3434788   SPB-56181  2022-07-25 19:55:52      4531    목동아파트 613동 앞      0   \n",
       "\n",
       "                         반납일시 반납대여소번호            반납대여소명 반납거치대  이용시간(분)  \\\n",
       "19030019  2022-11-11 00:46:01   00162          봉원고가차도 밑     0       96   \n",
       "16698934  2022-10-26 17:14:44   03569            건대병원후문     0       13   \n",
       "8710569   2022-09-06 19:24:06   01182         KBS 스포츠월드     0        6   \n",
       "1929187   2022-07-15 07:36:49   01102  방화사거리 마을버스 버스정류장     0       42   \n",
       "20404772  2022-11-21 13:50:41   01440          면목2동 사거리     0       54   \n",
       "...                       ...     ...               ...   ...      ...   \n",
       "23659877  2023-07-03 11:34:48   02715       마곡나루역 2번 출구     0        5   \n",
       "7463799   2022-08-27 17:43:28   01246         문정 법조단지10     0        2   \n",
       "20011494  2022-11-18 15:20:01   00769          CBS방송국 앞     0        8   \n",
       "25300035  2023-07-16 22:23:25   03575       자양사거리(서원빌딩)     0       13   \n",
       "3434788   2022-07-25 20:39:35   00255             도림사거리     0       43   \n",
       "\n",
       "           이용거리(M)    생년  성별 이용자종류  대여대여소ID  반납대여소ID  자전거구분  \n",
       "19030019  14120.01  1975   F   내국인   ST-522   ST-219   None  \n",
       "16698934   1030.44  2002  \\N   내국인  ST-2310  ST-2308   None  \n",
       "8710569     887.81  1991  \\N   내국인  ST-1249  ST-1519   None  \n",
       "1929187    7356.28  1989   F   내국인   ST-432   ST-508   None  \n",
       "20404772      0.00  1989   F   내국인   ST-942   ST-942   None  \n",
       "...            ...   ...  ..   ...      ...      ...    ...  \n",
       "23659877    900.00  1998  \\N   내국인  ST-1712  ST-2031  일반자전거  \n",
       "7463799       0.00  1998  \\N   내국인   ST-906   ST-906   None  \n",
       "20011494   1450.00  1972  \\N   내국인  ST-1496  ST-1995   None  \n",
       "25300035   1180.00  1989   F   내국인  ST-1661  ST-2314  일반자전거  \n",
       "3434788    5930.00  1967   F   내국인  ST-2844   ST-303   None  \n",
       "\n",
       "[9475055 rows x 17 columns]"
      ]
     },
     "execution_count": 8,
     "metadata": {},
     "output_type": "execute_result"
    }
   ],
   "source": [
    "df_rental = df_rental.sample(frac=0.2, random_state=3)\n",
    "df_rental"
   ]
  },
  {
   "cell_type": "markdown",
   "metadata": {},
   "source": [
    "고장신고내역"
   ]
  },
  {
   "cell_type": "code",
   "execution_count": 9,
   "metadata": {},
   "outputs": [
    {
     "data": {
      "text/html": [
       "<div>\n",
       "<style scoped>\n",
       "    .dataframe tbody tr th:only-of-type {\n",
       "        vertical-align: middle;\n",
       "    }\n",
       "\n",
       "    .dataframe tbody tr th {\n",
       "        vertical-align: top;\n",
       "    }\n",
       "\n",
       "    .dataframe thead th {\n",
       "        text-align: right;\n",
       "    }\n",
       "</style>\n",
       "<table border=\"1\" class=\"dataframe\">\n",
       "  <thead>\n",
       "    <tr style=\"text-align: right;\">\n",
       "      <th></th>\n",
       "      <th>자전거번호</th>\n",
       "      <th>등록일시</th>\n",
       "      <th>고장구분</th>\n",
       "    </tr>\n",
       "  </thead>\n",
       "  <tbody>\n",
       "    <tr>\n",
       "      <th>0</th>\n",
       "      <td>SPB-30229</td>\n",
       "      <td>2022-07-01 00:44:33</td>\n",
       "      <td>페달</td>\n",
       "    </tr>\n",
       "    <tr>\n",
       "      <th>1</th>\n",
       "      <td>SPB-40134</td>\n",
       "      <td>2022-07-01 00:57:59</td>\n",
       "      <td>페달</td>\n",
       "    </tr>\n",
       "    <tr>\n",
       "      <th>2</th>\n",
       "      <td>SPB-40789</td>\n",
       "      <td>2022-07-01 01:08:25</td>\n",
       "      <td>안장</td>\n",
       "    </tr>\n",
       "    <tr>\n",
       "      <th>3</th>\n",
       "      <td>SPB-50932</td>\n",
       "      <td>2022-07-01 01:09:33</td>\n",
       "      <td>체인</td>\n",
       "    </tr>\n",
       "    <tr>\n",
       "      <th>4</th>\n",
       "      <td>SPB-41175</td>\n",
       "      <td>2022-07-01 01:13:06</td>\n",
       "      <td>안장</td>\n",
       "    </tr>\n",
       "    <tr>\n",
       "      <th>...</th>\n",
       "      <td>...</td>\n",
       "      <td>...</td>\n",
       "      <td>...</td>\n",
       "    </tr>\n",
       "    <tr>\n",
       "      <th>194724</th>\n",
       "      <td>SPB-60450</td>\n",
       "      <td>2023-12-31 23:00:11</td>\n",
       "      <td>체인</td>\n",
       "    </tr>\n",
       "    <tr>\n",
       "      <th>194725</th>\n",
       "      <td>SPB-30500</td>\n",
       "      <td>2023-12-31 23:29:38</td>\n",
       "      <td>안장</td>\n",
       "    </tr>\n",
       "    <tr>\n",
       "      <th>194726</th>\n",
       "      <td>SPB-30500</td>\n",
       "      <td>2023-12-31 23:29:38</td>\n",
       "      <td>기타</td>\n",
       "    </tr>\n",
       "    <tr>\n",
       "      <th>194727</th>\n",
       "      <td>SPB-30224</td>\n",
       "      <td>2023-12-31 23:49:38</td>\n",
       "      <td>체인</td>\n",
       "    </tr>\n",
       "    <tr>\n",
       "      <th>194728</th>\n",
       "      <td>SPB-47511</td>\n",
       "      <td>2023-12-31 23:56:45</td>\n",
       "      <td>안장</td>\n",
       "    </tr>\n",
       "  </tbody>\n",
       "</table>\n",
       "<p>194729 rows × 3 columns</p>\n",
       "</div>"
      ],
      "text/plain": [
       "            자전거번호                 등록일시 고장구분\n",
       "0       SPB-30229  2022-07-01 00:44:33   페달\n",
       "1       SPB-40134  2022-07-01 00:57:59   페달\n",
       "2       SPB-40789  2022-07-01 01:08:25   안장\n",
       "3       SPB-50932  2022-07-01 01:09:33   체인\n",
       "4       SPB-41175  2022-07-01 01:13:06   안장\n",
       "...           ...                  ...  ...\n",
       "194724  SPB-60450  2023-12-31 23:00:11   체인\n",
       "194725  SPB-30500  2023-12-31 23:29:38   안장\n",
       "194726  SPB-30500  2023-12-31 23:29:38  기타 \n",
       "194727  SPB-30224  2023-12-31 23:49:38   체인\n",
       "194728  SPB-47511  2023-12-31 23:56:45   안장\n",
       "\n",
       "[194729 rows x 3 columns]"
      ]
     },
     "execution_count": 9,
     "metadata": {},
     "output_type": "execute_result"
    }
   ],
   "source": [
    "df_broken"
   ]
  },
  {
   "cell_type": "markdown",
   "metadata": {},
   "source": [
    "# EDA"
   ]
  },
  {
   "cell_type": "markdown",
   "metadata": {},
   "source": [
    "**확인해야 할 것들:**  \n",
    "\n",
    "1. 데이터타입 -> 날짜 데이터 datetime / period 로 변환\n",
    "2. 중복값 -> 고장신고내역 중복값 하나 제거\n",
    "3. 결측치 -> 성별, 자전거구분, 대여거치대, 반납거치대\n",
    "4. 추상화 -> 성별 제거, 나이는 만14세 이상 64세 이하로, 외국인 제거, 대여소번호/명 및 반납대여소번호/명 제거, 이용거리 제거\n",
    "5. 파생변수 -> 생년을 나이로 변환\n",
    "5. 수치형 / 범주형 분류  \n",
    "6. 시각화 및 분포 확인  \n",
    "\n",
    "! 각 단계에서 값들의 형태는 확인하면서 할 것"
   ]
  },
  {
   "cell_type": "markdown",
   "metadata": {},
   "source": [
    "날짜 데이터 변환\n",
    "1. 신규가입자정보 날짜 들여다보기 쉽게 `가입일시` period로 변환, year 컬럼 제거 -> 나중에 `.year` 또는 `.month` 로 년월 호출 가능\n",
    "2. 대여이력정보 `대여일시` datetime으로 변환\n",
    "3. 고장신고내역 `등록일시` datetime으로 변환"
   ]
  },
  {
   "cell_type": "code",
   "execution_count": 45,
   "metadata": {},
   "outputs": [],
   "source": [
    "# 가입일시 period 데이터타입 변환\n",
    "df_newb['가입일시'] = (\n",
    "    df_newb['가입일시']\n",
    "    .astype('str')\n",
    "    .apply(lambda x: x[:4] + '-' + x[4:])\n",
    "    .apply(lambda x: pd.to_datetime(x)).dt.to_period('M')\n",
    ")\n",
    "# year 컬럼 제거\n",
    "df_newb.drop(columns=['year'], inplace=True)"
   ]
  },
  {
   "cell_type": "code",
   "execution_count": 46,
   "metadata": {},
   "outputs": [],
   "source": [
    "# 대여이력정보 대여일시 datetime 데이터타입 변환\n",
    "df_rental['대여일시'] = pd.to_datetime(df_rental['대여일시'])\n",
    "# 고장신고내역 등록일시 datetime 데이터타입 변환\n",
    "df_broken['등록일시'] = pd.to_datetime(df_broken['등록일시'])"
   ]
  },
  {
   "cell_type": "code",
   "execution_count": 47,
   "metadata": {},
   "outputs": [
    {
     "name": "stdout",
     "output_type": "stream",
     "text": [
      "df_newb['가입일시'].dtype = period[M]\n",
      "df_rental['대여일시'].dtype = dtype('<M8[ns]')\n",
      "df_broken['등록일시'].dtype = dtype('<M8[ns]')\n"
     ]
    }
   ],
   "source": [
    "print(f\"{df_newb['가입일시'].dtype = }\")\n",
    "print(f\"{df_rental['대여일시'].dtype = }\")\n",
    "print(f\"{df_broken['등록일시'].dtype = }\")"
   ]
  },
  {
   "cell_type": "markdown",
   "metadata": {},
   "source": [
    "중복값 확인해보기"
   ]
  },
  {
   "cell_type": "code",
   "execution_count": 48,
   "metadata": {},
   "outputs": [
    {
     "name": "stdout",
     "output_type": "stream",
     "text": [
      "(0, 2)\n",
      "(0, 17)\n",
      "(1, 3)\n"
     ]
    }
   ],
   "source": [
    "print(df_newb[df_newb.duplicated()].shape)\n",
    "print(df_rental[df_rental.duplicated()].shape)\n",
    "print(df_broken[df_broken.duplicated()].shape)"
   ]
  },
  {
   "cell_type": "markdown",
   "metadata": {},
   "source": [
    "고장신고내역 중복값 확인 및 제거"
   ]
  },
  {
   "cell_type": "code",
   "execution_count": 49,
   "metadata": {},
   "outputs": [
    {
     "data": {
      "text/html": [
       "<div>\n",
       "<style scoped>\n",
       "    .dataframe tbody tr th:only-of-type {\n",
       "        vertical-align: middle;\n",
       "    }\n",
       "\n",
       "    .dataframe tbody tr th {\n",
       "        vertical-align: top;\n",
       "    }\n",
       "\n",
       "    .dataframe thead th {\n",
       "        text-align: right;\n",
       "    }\n",
       "</style>\n",
       "<table border=\"1\" class=\"dataframe\">\n",
       "  <thead>\n",
       "    <tr style=\"text-align: right;\">\n",
       "      <th></th>\n",
       "      <th>자전거번호</th>\n",
       "      <th>등록일시</th>\n",
       "      <th>고장구분</th>\n",
       "    </tr>\n",
       "  </thead>\n",
       "  <tbody>\n",
       "    <tr>\n",
       "      <th>2490</th>\n",
       "      <td>SPB-60114</td>\n",
       "      <td>2022-07-04 21:48:38</td>\n",
       "      <td>체인</td>\n",
       "    </tr>\n",
       "    <tr>\n",
       "      <th>2491</th>\n",
       "      <td>SPB-60114</td>\n",
       "      <td>2022-07-04 21:48:38</td>\n",
       "      <td>체인</td>\n",
       "    </tr>\n",
       "  </tbody>\n",
       "</table>\n",
       "</div>"
      ],
      "text/plain": [
       "          자전거번호                등록일시 고장구분\n",
       "2490  SPB-60114 2022-07-04 21:48:38   체인\n",
       "2491  SPB-60114 2022-07-04 21:48:38   체인"
      ]
     },
     "execution_count": 49,
     "metadata": {},
     "output_type": "execute_result"
    }
   ],
   "source": [
    "df_broken[df_broken.duplicated(keep=False)]"
   ]
  },
  {
   "cell_type": "code",
   "execution_count": 50,
   "metadata": {},
   "outputs": [],
   "source": [
    "df_broken = df_broken[~df_broken.duplicated()]"
   ]
  },
  {
   "cell_type": "markdown",
   "metadata": {},
   "source": [
    "결측치 확인 및 제거\n",
    "\n",
    "확인해본 결과 대여이력정보에 \\N 으로 저장된 결측치 값들 도 너무 많아서 결측치 다시 시작"
   ]
  },
  {
   "cell_type": "code",
   "execution_count": 51,
   "metadata": {},
   "outputs": [],
   "source": [
    "df_rental.replace('\\\\N', np.nan, inplace=True)"
   ]
  },
  {
   "cell_type": "code",
   "execution_count": 52,
   "metadata": {},
   "outputs": [
    {
     "name": "stdout",
     "output_type": "stream",
     "text": [
      "신규가입자 결측치:\n",
      "    NaN: 0\n",
      "대여이력정보 결측치:\n",
      "    NaN: 8540041\n",
      "고장신고내역 결측치:\n",
      "    NaN: 0\n"
     ]
    }
   ],
   "source": [
    "print(f\"신규가입자 결측치:\\n    NaN: {df_newb.isna().sum().sum()}\")\n",
    "print(f\"대여이력정보 결측치:\\n    NaN: {df_rental.isna().sum().sum()}\")\n",
    "print(f\"고장신고내역 결측치:\\n    NaN: {df_broken.isna().sum().sum()}\")"
   ]
  },
  {
   "cell_type": "code",
   "execution_count": 53,
   "metadata": {},
   "outputs": [
    {
     "data": {
      "text/html": [
       "<div>\n",
       "<style scoped>\n",
       "    .dataframe tbody tr th:only-of-type {\n",
       "        vertical-align: middle;\n",
       "    }\n",
       "\n",
       "    .dataframe tbody tr th {\n",
       "        vertical-align: top;\n",
       "    }\n",
       "\n",
       "    .dataframe thead th {\n",
       "        text-align: right;\n",
       "    }\n",
       "</style>\n",
       "<table border=\"1\" class=\"dataframe\">\n",
       "  <thead>\n",
       "    <tr style=\"text-align: right;\">\n",
       "      <th></th>\n",
       "      <th>NA (count)</th>\n",
       "      <th>NA (ratio)</th>\n",
       "    </tr>\n",
       "  </thead>\n",
       "  <tbody>\n",
       "    <tr>\n",
       "      <th>반납대여소번호</th>\n",
       "      <td>39681</td>\n",
       "      <td>0.004188</td>\n",
       "    </tr>\n",
       "    <tr>\n",
       "      <th>반납대여소명</th>\n",
       "      <td>39681</td>\n",
       "      <td>0.004188</td>\n",
       "    </tr>\n",
       "    <tr>\n",
       "      <th>반납거치대</th>\n",
       "      <td>40792</td>\n",
       "      <td>0.004305</td>\n",
       "    </tr>\n",
       "    <tr>\n",
       "      <th>생년</th>\n",
       "      <td>742090</td>\n",
       "      <td>0.078320</td>\n",
       "    </tr>\n",
       "    <tr>\n",
       "      <th>성별</th>\n",
       "      <td>2972956</td>\n",
       "      <td>0.313767</td>\n",
       "    </tr>\n",
       "    <tr>\n",
       "      <th>반납대여소ID</th>\n",
       "      <td>39681</td>\n",
       "      <td>0.004188</td>\n",
       "    </tr>\n",
       "    <tr>\n",
       "      <th>자전거구분</th>\n",
       "      <td>4665160</td>\n",
       "      <td>0.492362</td>\n",
       "    </tr>\n",
       "  </tbody>\n",
       "</table>\n",
       "</div>"
      ],
      "text/plain": [
       "         NA (count)  NA (ratio)\n",
       "반납대여소번호       39681    0.004188\n",
       "반납대여소명        39681    0.004188\n",
       "반납거치대         40792    0.004305\n",
       "생년           742090    0.078320\n",
       "성별          2972956    0.313767\n",
       "반납대여소ID       39681    0.004188\n",
       "자전거구분       4665160    0.492362"
      ]
     },
     "execution_count": 53,
     "metadata": {},
     "output_type": "execute_result"
    }
   ],
   "source": [
    "rental_na = df_rental.isna().sum()\n",
    "rental_na_ratio = (rental_na / len(df_rental))\n",
    "df_rental_na = pd.DataFrame({\n",
    "    'NA (count)': rental_na,\n",
    "    'NA (ratio)': rental_na_ratio\n",
    "})\n",
    "df_rental_na = df_rental_na[df_rental_na['NA (count)'] > 0]\n",
    "df_rental_na"
   ]
  },
  {
   "cell_type": "markdown",
   "metadata": {},
   "source": [
    "자전거구분은 자전거 크기의 차이이며 요금 인상과 관련 없을 것 같다."
   ]
  },
  {
   "cell_type": "code",
   "execution_count": 54,
   "metadata": {},
   "outputs": [
    {
     "data": {
      "text/plain": [
       "자전거구분\n",
       "일반자전거    4676122\n",
       "새싹자전거     133773\n",
       "Name: count, dtype: int64"
      ]
     },
     "execution_count": 54,
     "metadata": {},
     "output_type": "execute_result"
    }
   ],
   "source": [
    "df_rental['자전거구분'].value_counts()"
   ]
  },
  {
   "cell_type": "code",
   "execution_count": 55,
   "metadata": {},
   "outputs": [],
   "source": [
    "df_rental.drop(columns=['자전거구분'], inplace=True)"
   ]
  },
  {
   "cell_type": "markdown",
   "metadata": {},
   "source": [
    "성별의 차이도 요금 인상과 큰 상관은 없을 것 같다."
   ]
  },
  {
   "cell_type": "code",
   "execution_count": 56,
   "metadata": {},
   "outputs": [
    {
     "data": {
      "text/plain": [
       "성별\n",
       "M    4033854\n",
       "F    2466389\n",
       "m       1295\n",
       "f        561\n",
       "Name: count, dtype: int64"
      ]
     },
     "execution_count": 56,
     "metadata": {},
     "output_type": "execute_result"
    }
   ],
   "source": [
    "df_rental['성별'].value_counts()"
   ]
  },
  {
   "cell_type": "code",
   "execution_count": 57,
   "metadata": {},
   "outputs": [],
   "source": [
    "df_rental['성별'] = df_rental['성별'].str.upper()"
   ]
  },
  {
   "cell_type": "code",
   "execution_count": 58,
   "metadata": {},
   "outputs": [
    {
     "data": {
      "text/html": [
       "<div>\n",
       "<style scoped>\n",
       "    .dataframe tbody tr th:only-of-type {\n",
       "        vertical-align: middle;\n",
       "    }\n",
       "\n",
       "    .dataframe tbody tr th {\n",
       "        vertical-align: top;\n",
       "    }\n",
       "\n",
       "    .dataframe thead th {\n",
       "        text-align: right;\n",
       "    }\n",
       "</style>\n",
       "<table border=\"1\" class=\"dataframe\">\n",
       "  <thead>\n",
       "    <tr style=\"text-align: right;\">\n",
       "      <th></th>\n",
       "      <th>자전거번호</th>\n",
       "      <th>대여일시</th>\n",
       "      <th>대여 대여소번호</th>\n",
       "      <th>대여 대여소명</th>\n",
       "      <th>대여거치대</th>\n",
       "      <th>반납일시</th>\n",
       "      <th>반납대여소번호</th>\n",
       "      <th>반납대여소명</th>\n",
       "      <th>반납거치대</th>\n",
       "      <th>이용시간(분)</th>\n",
       "      <th>이용거리(M)</th>\n",
       "      <th>생년</th>\n",
       "      <th>성별</th>\n",
       "      <th>이용자종류</th>\n",
       "      <th>대여대여소ID</th>\n",
       "      <th>반납대여소ID</th>\n",
       "    </tr>\n",
       "  </thead>\n",
       "  <tbody>\n",
       "    <tr>\n",
       "      <th>16698934</th>\n",
       "      <td>SPB-39988</td>\n",
       "      <td>2022-10-26 17:00:50</td>\n",
       "      <td>3571</td>\n",
       "      <td>화양 APT(횡단보도 옆)</td>\n",
       "      <td>0</td>\n",
       "      <td>2022-10-26 17:14:44</td>\n",
       "      <td>03569</td>\n",
       "      <td>건대병원후문</td>\n",
       "      <td>0</td>\n",
       "      <td>13</td>\n",
       "      <td>1030.44</td>\n",
       "      <td>2002</td>\n",
       "      <td>NaN</td>\n",
       "      <td>내국인</td>\n",
       "      <td>ST-2310</td>\n",
       "      <td>ST-2308</td>\n",
       "    </tr>\n",
       "    <tr>\n",
       "      <th>8710569</th>\n",
       "      <td>SPB-50825</td>\n",
       "      <td>2022-09-06 19:17:39</td>\n",
       "      <td>1158</td>\n",
       "      <td>가양역 8번출구</td>\n",
       "      <td>0</td>\n",
       "      <td>2022-09-06 19:24:06</td>\n",
       "      <td>01182</td>\n",
       "      <td>KBS 스포츠월드</td>\n",
       "      <td>0</td>\n",
       "      <td>6</td>\n",
       "      <td>887.81</td>\n",
       "      <td>1991</td>\n",
       "      <td>NaN</td>\n",
       "      <td>내국인</td>\n",
       "      <td>ST-1249</td>\n",
       "      <td>ST-1519</td>\n",
       "    </tr>\n",
       "    <tr>\n",
       "      <th>29147416</th>\n",
       "      <td>SPB-62769</td>\n",
       "      <td>2023-08-14 22:55:09</td>\n",
       "      <td>2219</td>\n",
       "      <td>고속터미널역 8-1번, 8-2번 출구 사이</td>\n",
       "      <td>0</td>\n",
       "      <td>2023-08-14 22:56:41</td>\n",
       "      <td>02525</td>\n",
       "      <td>반포쇼핑타운 2동 앞</td>\n",
       "      <td>0</td>\n",
       "      <td>1</td>\n",
       "      <td>0.00</td>\n",
       "      <td>1992</td>\n",
       "      <td>NaN</td>\n",
       "      <td>내국인</td>\n",
       "      <td>ST-750</td>\n",
       "      <td>ST-1910</td>\n",
       "    </tr>\n",
       "  </tbody>\n",
       "</table>\n",
       "</div>"
      ],
      "text/plain": [
       "              자전거번호                대여일시  대여 대여소번호                  대여 대여소명  \\\n",
       "16698934  SPB-39988 2022-10-26 17:00:50      3571           화양 APT(횡단보도 옆)   \n",
       "8710569   SPB-50825 2022-09-06 19:17:39      1158                 가양역 8번출구   \n",
       "29147416  SPB-62769 2023-08-14 22:55:09      2219  고속터미널역 8-1번, 8-2번 출구 사이   \n",
       "\n",
       "          대여거치대                 반납일시 반납대여소번호       반납대여소명 반납거치대  이용시간(분)  \\\n",
       "16698934      0  2022-10-26 17:14:44   03569       건대병원후문     0       13   \n",
       "8710569       0  2022-09-06 19:24:06   01182    KBS 스포츠월드     0        6   \n",
       "29147416      0  2023-08-14 22:56:41   02525  반포쇼핑타운 2동 앞     0        1   \n",
       "\n",
       "          이용거리(M)    생년   성별 이용자종류  대여대여소ID  반납대여소ID  \n",
       "16698934  1030.44  2002  NaN   내국인  ST-2310  ST-2308  \n",
       "8710569    887.81  1991  NaN   내국인  ST-1249  ST-1519  \n",
       "29147416     0.00  1992  NaN   내국인   ST-750  ST-1910  "
      ]
     },
     "execution_count": 58,
     "metadata": {},
     "output_type": "execute_result"
    }
   ],
   "source": [
    "df_rental.loc[df_rental['성별'].isna()].head(3)"
   ]
  },
  {
   "cell_type": "code",
   "execution_count": 59,
   "metadata": {},
   "outputs": [],
   "source": [
    "df_rental.drop(columns=['성별'], inplace=True)"
   ]
  },
  {
   "cell_type": "markdown",
   "metadata": {},
   "source": [
    "반납거치대를 확인했을 때 자전거구분과 연관된 자전거 종류별 거치대라 필요없을 것 같다. 그렇다면 대여거치대도 마찬가지로 필요가 없어서 같이 제거."
   ]
  },
  {
   "cell_type": "code",
   "execution_count": 60,
   "metadata": {},
   "outputs": [
    {
     "data": {
      "text/plain": [
       "대여거치대  반납거치대\n",
       "0      0        9141088\n",
       "99     99        291562\n",
       "       0           1280\n",
       "0      99           333\n",
       "Name: count, dtype: int64"
      ]
     },
     "execution_count": 60,
     "metadata": {},
     "output_type": "execute_result"
    }
   ],
   "source": [
    "df_rental[['대여거치대', '반납거치대']].value_counts()"
   ]
  },
  {
   "cell_type": "code",
   "execution_count": 61,
   "metadata": {},
   "outputs": [],
   "source": [
    "df_rental.drop(columns=['대여거치대', '반납거치대'], inplace=True)"
   ]
  },
  {
   "cell_type": "markdown",
   "metadata": {},
   "source": [
    "외국인 데이터 제거"
   ]
  },
  {
   "cell_type": "code",
   "execution_count": 62,
   "metadata": {},
   "outputs": [],
   "source": [
    "df_rental_foreigners = df_rental.loc[df_rental['이용자종류'] == '외국인'].index\n",
    "df_rental.drop(index=df_rental_foreigners, inplace=True)"
   ]
  },
  {
   "cell_type": "markdown",
   "metadata": {},
   "source": [
    "`반납대여소번호`, `반납대여소명`은 제거.\n",
    " \n",
    "`반납대여소ID`는 결측치를 '분실'로 처리.\n",
    "\n",
    "반납이 되었는지 확인해야 고장신고 데이터와 비교할 수 있으며, 요금 인상으로 증가할만한 나이대로 추리를 할 수 있기 때문에 생년도 필요한다. \n",
    "`반납대여소ID`는: `반납일시`가 있는데 `반납대여소ID`가 없는 경우에는 분실로 처리해야하기 때문에 `반납대여소ID` 제외하고 데이터가 너무 많아서 반납대여소번호, 반납대여소명은 열을 처리.\n",
    "\n",
    "대여소 마스터 정보로 대여소ID만 있으면 지역을 찾을 수 있다. 대여소명은 애초에 대여소명이라 지역을 추출하기가 어렵기 때문에 제거, 번호도 마찬가지의 이유로 -> `대여 대여소번호`, `대여 대여소명`, `반납대여소 번호`, `반납대여소명` 제거."
   ]
  },
  {
   "cell_type": "code",
   "execution_count": 63,
   "metadata": {},
   "outputs": [],
   "source": [
    "# 반납대여소번호, 반납대여소명 결측치 열을 처리\n",
    "df_rental.drop(columns=['반납대여소번호', '반납대여소명'], inplace=True)\n",
    "# 반납대여소ID 결측치 '분실'로 대체\n",
    "df_rental['반납대여소ID'].fillna(value='분실', inplace=True)"
   ]
  },
  {
   "cell_type": "markdown",
   "metadata": {},
   "source": [
    "생년 결측치는 행을 제거"
   ]
  },
  {
   "cell_type": "code",
   "execution_count": 64,
   "metadata": {},
   "outputs": [],
   "source": [
    "# 생년은 결측치 행을 처리\n",
    "df_rental.dropna(subset=['생년'], how='any', axis=0, inplace=True)"
   ]
  },
  {
   "cell_type": "markdown",
   "metadata": {},
   "source": [
    "파생 변수: `생년` 컬럼 `나이`로 변환 및 `생년` 컬럼 제거"
   ]
  },
  {
   "cell_type": "code",
   "execution_count": 65,
   "metadata": {},
   "outputs": [
    {
     "data": {
      "text/html": [
       "<div>\n",
       "<style scoped>\n",
       "    .dataframe tbody tr th:only-of-type {\n",
       "        vertical-align: middle;\n",
       "    }\n",
       "\n",
       "    .dataframe tbody tr th {\n",
       "        vertical-align: top;\n",
       "    }\n",
       "\n",
       "    .dataframe thead th {\n",
       "        text-align: right;\n",
       "    }\n",
       "</style>\n",
       "<table border=\"1\" class=\"dataframe\">\n",
       "  <thead>\n",
       "    <tr style=\"text-align: right;\">\n",
       "      <th></th>\n",
       "      <th>자전거번호</th>\n",
       "      <th>대여일시</th>\n",
       "      <th>대여 대여소번호</th>\n",
       "      <th>대여 대여소명</th>\n",
       "      <th>반납일시</th>\n",
       "      <th>이용시간(분)</th>\n",
       "      <th>이용거리(M)</th>\n",
       "      <th>이용자종류</th>\n",
       "      <th>대여대여소ID</th>\n",
       "      <th>반납대여소ID</th>\n",
       "      <th>나이(만)</th>\n",
       "    </tr>\n",
       "  </thead>\n",
       "  <tbody>\n",
       "    <tr>\n",
       "      <th>19030019</th>\n",
       "      <td>SPB-39992</td>\n",
       "      <td>2022-11-10 23:09:05</td>\n",
       "      <td>1124</td>\n",
       "      <td>발산역 6번 출구 뒤</td>\n",
       "      <td>2022-11-11 00:46:01</td>\n",
       "      <td>96</td>\n",
       "      <td>14120.01</td>\n",
       "      <td>내국인</td>\n",
       "      <td>ST-522</td>\n",
       "      <td>ST-219</td>\n",
       "      <td>47</td>\n",
       "    </tr>\n",
       "    <tr>\n",
       "      <th>16698934</th>\n",
       "      <td>SPB-39988</td>\n",
       "      <td>2022-10-26 17:00:50</td>\n",
       "      <td>3571</td>\n",
       "      <td>화양 APT(횡단보도 옆)</td>\n",
       "      <td>2022-10-26 17:14:44</td>\n",
       "      <td>13</td>\n",
       "      <td>1030.44</td>\n",
       "      <td>내국인</td>\n",
       "      <td>ST-2310</td>\n",
       "      <td>ST-2308</td>\n",
       "      <td>20</td>\n",
       "    </tr>\n",
       "    <tr>\n",
       "      <th>8710569</th>\n",
       "      <td>SPB-50825</td>\n",
       "      <td>2022-09-06 19:17:39</td>\n",
       "      <td>1158</td>\n",
       "      <td>가양역 8번출구</td>\n",
       "      <td>2022-09-06 19:24:06</td>\n",
       "      <td>6</td>\n",
       "      <td>887.81</td>\n",
       "      <td>내국인</td>\n",
       "      <td>ST-1249</td>\n",
       "      <td>ST-1519</td>\n",
       "      <td>31</td>\n",
       "    </tr>\n",
       "    <tr>\n",
       "      <th>1929187</th>\n",
       "      <td>SPB-52800</td>\n",
       "      <td>2022-07-15 06:54:34</td>\n",
       "      <td>720</td>\n",
       "      <td>서울강월초등학교 앞</td>\n",
       "      <td>2022-07-15 07:36:49</td>\n",
       "      <td>42</td>\n",
       "      <td>7356.28</td>\n",
       "      <td>내국인</td>\n",
       "      <td>ST-432</td>\n",
       "      <td>ST-508</td>\n",
       "      <td>33</td>\n",
       "    </tr>\n",
       "    <tr>\n",
       "      <th>20404772</th>\n",
       "      <td>SPB-53662</td>\n",
       "      <td>2022-11-21 12:56:34</td>\n",
       "      <td>1440</td>\n",
       "      <td>면목2동 사거리</td>\n",
       "      <td>2022-11-21 13:50:41</td>\n",
       "      <td>54</td>\n",
       "      <td>0.00</td>\n",
       "      <td>내국인</td>\n",
       "      <td>ST-942</td>\n",
       "      <td>ST-942</td>\n",
       "      <td>33</td>\n",
       "    </tr>\n",
       "    <tr>\n",
       "      <th>...</th>\n",
       "      <td>...</td>\n",
       "      <td>...</td>\n",
       "      <td>...</td>\n",
       "      <td>...</td>\n",
       "      <td>...</td>\n",
       "      <td>...</td>\n",
       "      <td>...</td>\n",
       "      <td>...</td>\n",
       "      <td>...</td>\n",
       "      <td>...</td>\n",
       "      <td>...</td>\n",
       "    </tr>\n",
       "    <tr>\n",
       "      <th>23659877</th>\n",
       "      <td>SPB-63489</td>\n",
       "      <td>2023-07-03 11:28:50</td>\n",
       "      <td>1195</td>\n",
       "      <td>코오롱One&amp;Only타워</td>\n",
       "      <td>2023-07-03 11:34:48</td>\n",
       "      <td>5</td>\n",
       "      <td>900.00</td>\n",
       "      <td>내국인</td>\n",
       "      <td>ST-1712</td>\n",
       "      <td>ST-2031</td>\n",
       "      <td>25</td>\n",
       "    </tr>\n",
       "    <tr>\n",
       "      <th>7463799</th>\n",
       "      <td>SPB-44935</td>\n",
       "      <td>2022-08-27 17:40:58</td>\n",
       "      <td>1246</td>\n",
       "      <td>문정 법조단지10</td>\n",
       "      <td>2022-08-27 17:43:28</td>\n",
       "      <td>2</td>\n",
       "      <td>0.00</td>\n",
       "      <td>내국인</td>\n",
       "      <td>ST-906</td>\n",
       "      <td>ST-906</td>\n",
       "      <td>24</td>\n",
       "    </tr>\n",
       "    <tr>\n",
       "      <th>20011494</th>\n",
       "      <td>SPB-65752</td>\n",
       "      <td>2022-11-18 15:11:09</td>\n",
       "      <td>755</td>\n",
       "      <td>목동1단지아파트 상가 앞</td>\n",
       "      <td>2022-11-18 15:20:01</td>\n",
       "      <td>8</td>\n",
       "      <td>1450.00</td>\n",
       "      <td>내국인</td>\n",
       "      <td>ST-1496</td>\n",
       "      <td>ST-1995</td>\n",
       "      <td>50</td>\n",
       "    </tr>\n",
       "    <tr>\n",
       "      <th>25300035</th>\n",
       "      <td>SPB-65234</td>\n",
       "      <td>2023-07-16 22:09:31</td>\n",
       "      <td>3534</td>\n",
       "      <td>건대입구역 5번출구 뒤</td>\n",
       "      <td>2023-07-16 22:23:25</td>\n",
       "      <td>13</td>\n",
       "      <td>1180.00</td>\n",
       "      <td>내국인</td>\n",
       "      <td>ST-1661</td>\n",
       "      <td>ST-2314</td>\n",
       "      <td>34</td>\n",
       "    </tr>\n",
       "    <tr>\n",
       "      <th>3434788</th>\n",
       "      <td>SPB-56181</td>\n",
       "      <td>2022-07-25 19:55:52</td>\n",
       "      <td>4531</td>\n",
       "      <td>목동아파트 613동 앞</td>\n",
       "      <td>2022-07-25 20:39:35</td>\n",
       "      <td>43</td>\n",
       "      <td>5930.00</td>\n",
       "      <td>내국인</td>\n",
       "      <td>ST-2844</td>\n",
       "      <td>ST-303</td>\n",
       "      <td>55</td>\n",
       "    </tr>\n",
       "  </tbody>\n",
       "</table>\n",
       "<p>8732965 rows × 11 columns</p>\n",
       "</div>"
      ],
      "text/plain": [
       "              자전거번호                대여일시  대여 대여소번호         대여 대여소명  \\\n",
       "19030019  SPB-39992 2022-11-10 23:09:05      1124     발산역 6번 출구 뒤   \n",
       "16698934  SPB-39988 2022-10-26 17:00:50      3571  화양 APT(횡단보도 옆)   \n",
       "8710569   SPB-50825 2022-09-06 19:17:39      1158        가양역 8번출구   \n",
       "1929187   SPB-52800 2022-07-15 06:54:34       720      서울강월초등학교 앞   \n",
       "20404772  SPB-53662 2022-11-21 12:56:34      1440        면목2동 사거리   \n",
       "...             ...                 ...       ...             ...   \n",
       "23659877  SPB-63489 2023-07-03 11:28:50      1195   코오롱One&Only타워   \n",
       "7463799   SPB-44935 2022-08-27 17:40:58      1246       문정 법조단지10   \n",
       "20011494  SPB-65752 2022-11-18 15:11:09       755   목동1단지아파트 상가 앞   \n",
       "25300035  SPB-65234 2023-07-16 22:09:31      3534    건대입구역 5번출구 뒤   \n",
       "3434788   SPB-56181 2022-07-25 19:55:52      4531    목동아파트 613동 앞   \n",
       "\n",
       "                         반납일시  이용시간(분)   이용거리(M) 이용자종류  대여대여소ID  반납대여소ID  \\\n",
       "19030019  2022-11-11 00:46:01       96  14120.01   내국인   ST-522   ST-219   \n",
       "16698934  2022-10-26 17:14:44       13   1030.44   내국인  ST-2310  ST-2308   \n",
       "8710569   2022-09-06 19:24:06        6    887.81   내국인  ST-1249  ST-1519   \n",
       "1929187   2022-07-15 07:36:49       42   7356.28   내국인   ST-432   ST-508   \n",
       "20404772  2022-11-21 13:50:41       54      0.00   내국인   ST-942   ST-942   \n",
       "...                       ...      ...       ...   ...      ...      ...   \n",
       "23659877  2023-07-03 11:34:48        5    900.00   내국인  ST-1712  ST-2031   \n",
       "7463799   2022-08-27 17:43:28        2      0.00   내국인   ST-906   ST-906   \n",
       "20011494  2022-11-18 15:20:01        8   1450.00   내국인  ST-1496  ST-1995   \n",
       "25300035  2023-07-16 22:23:25       13   1180.00   내국인  ST-1661  ST-2314   \n",
       "3434788   2022-07-25 20:39:35       43   5930.00   내국인  ST-2844   ST-303   \n",
       "\n",
       "          나이(만)  \n",
       "19030019     47  \n",
       "16698934     20  \n",
       "8710569      31  \n",
       "1929187      33  \n",
       "20404772     33  \n",
       "...         ...  \n",
       "23659877     25  \n",
       "7463799      24  \n",
       "20011494     50  \n",
       "25300035     34  \n",
       "3434788      55  \n",
       "\n",
       "[8732965 rows x 11 columns]"
      ]
     },
     "execution_count": 65,
     "metadata": {},
     "output_type": "execute_result"
    }
   ],
   "source": [
    "# 나이(만) 컬럼 생성\n",
    "age = df_rental['대여일시'].dt.year - df_rental['생년'].astype('int')\n",
    "df_rental['나이(만)'] = age\n",
    "\n",
    "# 생년 컬럼 제거\n",
    "df_rental.drop(columns=['생년'])"
   ]
  },
  {
   "cell_type": "markdown",
   "metadata": {},
   "source": [
    "나이 컬럼 만14세 ~ 64세까지 포함 그 외는 제거 -> 14세 이하는 부모님 관여가 필요하고 65세 이상은 대중교통이 무료라 주제와 관련 없을 것이라 판단"
   ]
  },
  {
   "cell_type": "code",
   "execution_count": 66,
   "metadata": {},
   "outputs": [
    {
     "name": "stdout",
     "output_type": "stream",
     "text": [
      "가장 나이 많은 대여자: 2023\n",
      "가장 나이 적은 대여자: -77\n"
     ]
    }
   ],
   "source": [
    "# 나이 범위 확인\n",
    "all_ages = df_rental['나이(만)'].value_counts().index\n",
    "print(f\"가장 나이 많은 대여자: {all_ages.max()}\")\n",
    "print(f\"가장 나이 적은 대여자: {all_ages.min()}\")"
   ]
  },
  {
   "cell_type": "code",
   "execution_count": 67,
   "metadata": {},
   "outputs": [
    {
     "name": "stdout",
     "output_type": "stream",
     "text": [
      "가장 나이 많은 대여자: 64\n",
      "가장 나이 적은 대여자: 14\n"
     ]
    }
   ],
   "source": [
    "# 14세 미만 64세 초과 제거\n",
    "uneeded_ages = df_rental.loc[(df_rental['나이(만)'] < 14) | (df_rental['나이(만)'] > 64)].index\n",
    "df_rental.drop(index=uneeded_ages, inplace=True)\n",
    "\n",
    "# 나이 범위 다시 확인\n",
    "all_ages = df_rental['나이(만)'].value_counts().index\n",
    "print(f\"가장 나이 많은 대여자: {all_ages.max()}\")\n",
    "print(f\"가장 나이 적은 대여자: {all_ages.min()}\")"
   ]
  },
  {
   "cell_type": "markdown",
   "metadata": {},
   "source": [
    "이용시간(분), 이용거리(M), "
   ]
  },
  {
   "cell_type": "code",
   "execution_count": 68,
   "metadata": {},
   "outputs": [
    {
     "data": {
      "text/plain": [
       "Index(['자전거번호', '대여일시', '대여 대여소번호', '대여 대여소명', '반납일시', '이용시간(분)', '이용거리(M)',\n",
       "       '생년', '이용자종류', '대여대여소ID', '반납대여소ID', '나이(만)'],\n",
       "      dtype='object')"
      ]
     },
     "execution_count": 68,
     "metadata": {},
     "output_type": "execute_result"
    }
   ],
   "source": [
    "df_rental.columns"
   ]
  },
  {
   "cell_type": "markdown",
   "metadata": {},
   "source": [
    "이용거리 0 확인 또는 이용거리 너무 크거나 하면 관리자가 오류라고 함, 일단 재배치 또는 수리하기 위함임\n",
    "\n",
    "0~191031.81 이 있는데 낮은 거리는 0만 있는게 아니라 0.10, 0.13과 같은 애매한 낮은 수치도 존재하기 때문에 IQR사용해서 이상치 행 제거\n",
    "\n",
    "평균 지하철 역간의 거리를 보았을 때 1km미터 정도 돼서 그 이하는 제거."
   ]
  },
  {
   "cell_type": "code",
   "execution_count": 69,
   "metadata": {},
   "outputs": [
    {
     "data": {
      "text/plain": [
       "이용거리(M)\n",
       "1000.01     25\n",
       "1000.02     19\n",
       "1000.03     18\n",
       "1000.04     27\n",
       "1000.05     46\n",
       "            ..\n",
       "14999.42     1\n",
       "14999.53     1\n",
       "14999.67     1\n",
       "14999.83     1\n",
       "14999.90     1\n",
       "Name: count, Length: 679156, dtype: int64"
      ]
     },
     "execution_count": 69,
     "metadata": {},
     "output_type": "execute_result"
    }
   ],
   "source": [
    "less_than_1km = df_rental['이용거리(M)'] <= 1000\n",
    "greater_than_10km = df_rental['이용거리(M)'] >= 15000\n",
    "outlier_distance = df_rental.loc[less_than_1km | greater_than_10km].index\n",
    "df_rental.drop(index=outlier_distance)['이용거리(M)'].value_counts().sort_index()"
   ]
  },
  {
   "cell_type": "code",
   "execution_count": 70,
   "metadata": {},
   "outputs": [
    {
     "data": {
      "text/plain": [
       "이용시간(분)\n",
       "6     498855\n",
       "7     453848\n",
       "8     409239\n",
       "9     366878\n",
       "10    334709\n",
       "11    293606\n",
       "12    261679\n",
       "13    231428\n",
       "14    207225\n",
       "15    187088\n",
       "16    168094\n",
       "17    152777\n",
       "18    138542\n",
       "19    126651\n",
       "20    117661\n",
       "21    105843\n",
       "22     98295\n",
       "23     90904\n",
       "24     84612\n",
       "25     79464\n",
       "26     74213\n",
       "27     69838\n",
       "28     66136\n",
       "29     62038\n",
       "30     60693\n",
       "31     55961\n",
       "32     53864\n",
       "33     51672\n",
       "34     49453\n",
       "35     47784\n",
       "36     45716\n",
       "37     44165\n",
       "38     42938\n",
       "39     41546\n",
       "40     41032\n",
       "41     39142\n",
       "42     38184\n",
       "43     36660\n",
       "44     36147\n",
       "45     35945\n",
       "46     34376\n",
       "47     33461\n",
       "48     32889\n",
       "49     32137\n",
       "50     34514\n",
       "51     31190\n",
       "52     31970\n",
       "53     31912\n",
       "54     31833\n",
       "55     31323\n",
       "56     30115\n",
       "57     28559\n",
       "58     26672\n",
       "59     23723\n",
       "Name: count, dtype: int64"
      ]
     },
     "execution_count": 70,
     "metadata": {},
     "output_type": "execute_result"
    }
   ],
   "source": [
    "less_than_5min = df_rental['이용시간(분)'] <= 5\n",
    "greater_than_60min = df_rental['이용시간(분)'] >= 60\n",
    "outlier_time = df_rental.loc[less_than_5min | greater_than_60min].index\n",
    "df_rental.drop(index=outlier_time)['이용시간(분)'].value_counts().sort_index()"
   ]
  },
  {
   "cell_type": "code",
   "execution_count": 71,
   "metadata": {},
   "outputs": [
    {
     "data": {
      "text/plain": [
       "Index(['자전거번호', '대여일시', '대여 대여소번호', '대여 대여소명', '반납일시', '이용시간(분)', '이용거리(M)',\n",
       "       '생년', '이용자종류', '대여대여소ID', '반납대여소ID', '나이(만)'],\n",
       "      dtype='object')"
      ]
     },
     "execution_count": 71,
     "metadata": {},
     "output_type": "execute_result"
    }
   ],
   "source": [
    "df_rental.columns"
   ]
  },
  {
   "cell_type": "markdown",
   "metadata": {},
   "source": [
    "대여소 마스터 정보로 대여소ID만 있으면 지역을 찾을 수 있다. 대여소명은 애초에 대여소명이라 지역을 추출하기가 어렵기 때문에 제거, 번호도 마찬가지의 이유로 -> `대여 대여소번호`, `대여 대여소명`, `반납대여소 번호`, `반납대여소명` 제거.\n",
    "\n",
    "대여량이 증가했는지가 주제에 맞는 내용이라 `반납일시`는 제거.\n",
    "\n",
    "마지막으로 이용시간은 원래 반납해야하는 시간 내에 반납을 했는지 중요하지만 이용거리는 한계치가 없기 때문에 `이용거리(M)` 제거."
   ]
  },
  {
   "cell_type": "markdown",
   "metadata": {},
   "source": [
    "마지막으로 모든 결측치 이상치 제거해서 -> 지워야할 열들이:\n",
    "\n",
    "대여 대여소번호, 대여 대여소명, 반납일시, 이용시간(분), 이용거리(M), 생년"
   ]
  },
  {
   "cell_type": "code",
   "execution_count": 81,
   "metadata": {},
   "outputs": [],
   "source": [
    "# 대여소ID 제외하고 대여소 관련 정보 제거\n",
    "df_rental.drop(columns=['대여 대여소번호', '대여 대여소명', '반납일시'], inplace=True)"
   ]
  },
  {
   "cell_type": "markdown",
   "metadata": {},
   "source": [
    "# 가공데이터에 파일들 저장"
   ]
  },
  {
   "cell_type": "code",
   "execution_count": 82,
   "metadata": {},
   "outputs": [],
   "source": [
    "# CSV 확장자로 가공데이터 폴더에 저장\n",
    "# df_newb.to_csv('./data/가공데이터/신규가입자정보.csv', index=False)\n",
    "# df_rental.to_csv('./data/가공데이터/대여이력정보.csv', index=False)\n",
    "# df_broken.to_csv('./data/가공데이터/고장신고내역.csv', index=False)"
   ]
  },
  {
   "cell_type": "markdown",
   "metadata": {},
   "source": [
    "# 기술통계"
   ]
  },
  {
   "cell_type": "code",
   "execution_count": null,
   "metadata": {},
   "outputs": [],
   "source": []
  },
  {
   "cell_type": "code",
   "execution_count": 83,
   "metadata": {},
   "outputs": [],
   "source": [
    "# 자전거 이용 만족도\n",
    "# df = pd.read_excel('./data/원본/자전거+이용환경+만족도_20240828141848.xlsx', header=[0, 1])\n",
    "# df"
   ]
  }
 ],
 "metadata": {
  "kernelspec": {
   "display_name": "Python 3",
   "language": "python",
   "name": "python3"
  },
  "language_info": {
   "codemirror_mode": {
    "name": "ipython",
    "version": 3
   },
   "file_extension": ".py",
   "mimetype": "text/x-python",
   "name": "python",
   "nbconvert_exporter": "python",
   "pygments_lexer": "ipython3",
   "version": "3.11.0"
  }
 },
 "nbformat": 4,
 "nbformat_minor": 2
}
