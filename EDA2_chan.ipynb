{
 "cells": [
  {
   "cell_type": "markdown",
   "metadata": {},
   "source": [
    "## 목차\n",
    "\n",
    "### 1. 시계열 그래프 추세 시각화 -> 2022년과 2023년 패턴이 다르다는 것을 발견 (평균과 분산 확인) \n",
    "\n",
    "\n",
    "### 2. 두 연도간의 비교 \n",
    "2-1. t-test : 연간 평균 가입자 수를 비교 (정규성 가정이 충족되지 않을 경우, Mann-Whitney U test와 같은 비모수 검정)\n",
    "2-2. 반복측정 anova : 월 별 비교 \n",
    "\n",
    "\n",
    "### 3. 요금 인상 전 후의 비교 \n",
    "3-1. t-test : 8월 인상 전 후, 10월 인상 전 후 \n",
    "3-2. anova : 인상 전, 첫 인상 후, 두 번째 인상 후 \n",
    "3-3. 시계열 분해 : 추세, 계절성, 불규칙성으로 분해 (요금 인상 전 후로 추세가 변했는지, 불규칙적인 변동이 커졌는지 확인) \n",
    "- 추세 > 장기적인 흐름 (가입자 수가 시간이 지남에 따라 증가/감소 하는지) \n",
    "- 계절성 > 패턴 (특정 달에 가입자 수가 항상 더 많은지/적은지) \n",
    "- 불규칙성 > 일시적 변동이나 특정 이벤트 (잔차) "
   ]
  },
  {
   "cell_type": "code",
   "execution_count": 1,
   "metadata": {},
   "outputs": [
    {
     "name": "stderr",
     "output_type": "stream",
     "text": [
      "c:\\Users\\chane\\AppData\\Local\\Programs\\Python\\Python311\\Lib\\site-packages\\dask\\dataframe\\__init__.py:42: FutureWarning: \n",
      "Dask dataframe query planning is disabled because dask-expr is not installed.\n",
      "\n",
      "You can install it with `pip install dask[dataframe]` or `conda install dask`.\n",
      "This will raise in a future version.\n",
      "\n",
      "  warnings.warn(msg, FutureWarning)\n"
     ]
    }
   ],
   "source": [
    "import pandas as pd\n",
    "import matplotlib.pyplot as plt\n",
    "import seaborn as sns\n",
    "import fastparquet\n",
    "import dask.dataframe as dd\n",
    "from utils import pipe_newb,pipe_broken,pipe_rental\n",
    "import koreanize_matplotlib\n",
    "from scipy import stats"
   ]
  },
  {
   "cell_type": "markdown",
   "metadata": {},
   "source": [
    "### 데이터"
   ]
  },
  {
   "cell_type": "code",
   "execution_count": null,
   "metadata": {},
   "outputs": [],
   "source": []
  }
 ],
 "metadata": {
  "kernelspec": {
   "display_name": "Python 3",
   "language": "python",
   "name": "python3"
  },
  "language_info": {
   "codemirror_mode": {
    "name": "ipython",
    "version": 3
   },
   "file_extension": ".py",
   "mimetype": "text/x-python",
   "name": "python",
   "nbconvert_exporter": "python",
   "pygments_lexer": "ipython3",
   "version": "3.11.0"
  }
 },
 "nbformat": 4,
 "nbformat_minor": 2
}
