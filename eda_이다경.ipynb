{
 "cells": [
  {
   "cell_type": "markdown",
   "metadata": {},
   "source": [
    "# import"
   ]
  },
  {
   "cell_type": "code",
   "execution_count": 2,
   "metadata": {},
   "outputs": [],
   "source": [
    "import pandas as pd\n",
    "import numpy as np\n",
    "import matplotlib.pyplot as plt\n",
    "import seaborn as sns"
   ]
  },
  {
   "cell_type": "markdown",
   "metadata": {},
   "source": [
    "# 데이터 만들기\n",
    "- 원본 데이터가 월별로 나뉘어져있어, 하나의 csv파일로 만들기 위해 작성된 코드\n",
    "- path부분은 'C:/Users/a0_0g/codeit_study/TransLab/Data/원본/' 각자 컴퓨터에 맞게 바꿔주세요!"
   ]
  },
  {
   "cell_type": "code",
   "execution_count": null,
   "metadata": {},
   "outputs": [],
   "source": [
    "import pandas as pd\n",
    "import os \n",
    "\n",
    "def merge_files(read_path: str, save_path: str, date_col: str) -> str:\n",
    "    broken_file_path = read_path\n",
    "    broken_data_dir = os.listdir(broken_file_path)\n",
    "    print(f'원래 파일 폴더: {broken_data_dir}\\n')\n",
    "\n",
    "    df22 = pd.DataFrame()\n",
    "    df23 = pd.DataFrame()\n",
    "    for file in broken_data_dir:\n",
    "        print(f'병합 진행중인 파일: {file}\\n')\n",
    "        try:\n",
    "            # try csv\n",
    "            df = pd.read_csv(f'{broken_file_path}/{file}', encoding='cp949')\n",
    "        except:\n",
    "            # else excel\n",
    "            df = pd.read_excel(f'{broken_file_path}/{file}')\n",
    "        # convert to datetime\n",
    "        df[date_col] = pd.to_datetime(df[date_col])\n",
    "        \n",
    "        # if year 2022\n",
    "        df22_new = df.loc[(df[date_col].dt.month.isin([month for month in range(6, 13)])) & (df[date_col].dt.year == 2022)]\n",
    "        df22 = pd.concat([df22, df22_new], axis=0)\n",
    "        df22 = df22.sort_values(by=date_col)\n",
    "        \n",
    "        # if year 2023\n",
    "        df23_new = df.loc[(df[date_col].dt.month.isin([month for month in range(6, 13)])) & (df[date_col].dt.year == 2023)]\n",
    "        df23 = pd.concat([df23, df23_new], axis=0)\n",
    "        df23 = df23.sort_values(by=date_col)\n",
    "    \n",
    "    # save files\n",
    "    df22.to_csv(f'{save_path}2207-12.csv', index=False)\n",
    "    df23.to_csv(f'{save_path}2307-12.csv', index=False)\n",
    "        \n",
    "    return f'모든 파일 병합 완료.'\n",
    "    \n",
    "# 고장 데이터\n",
    "read_path = 'C:/Users/a0_0g/codeit_study/TransLab/Data/원본/고장'\n",
    "save_path = 'C:/Users/a0_0g/codeit_study/TransLab/Data/원본/고장신고내역(일별)_'\n",
    "date_col = '등록일시'\n",
    "\n",
    "merge_files(read_path, save_path, date_col)\n",
    "\n",
    "# 대여이력정보 데이터\n",
    "read_path = 'C:/Users/a0_0g/codeit_study/TransLab/Data/원본/대여'\n",
    "save_path = 'C:/Users/a0_0g/codeit_study/TransLab/Data/원본/대여이력정보(일별)_'\n",
    "date_col = '대여일시'\n",
    "\n",
    "merge_files(read_path, save_path, date_col)"
   ]
  },
  {
   "cell_type": "markdown",
   "metadata": {},
   "source": [
    "---\n",
    "---"
   ]
  },
  {
   "cell_type": "markdown",
   "metadata": {},
   "source": [
    "# 데이터불러오기\n",
    "- 연도별 하반기로 합쳐진 원본 데이터 불러오기"
   ]
  },
  {
   "cell_type": "code",
   "execution_count": 4,
   "metadata": {},
   "outputs": [],
   "source": [
    "df_newb = pd.read_csv('C:/Users/a0_0g/codeit_study/TransLab/Data/원본/신규가입자합산_22-23.csv')\n",
    "df_rental_22 = pd.read_csv('C:/Users/a0_0g/codeit_study/TransLab/Data/원본/대여이력정보(일별)_2207-12.csv')\n",
    "df_rental_23 = pd.read_csv('C:/Users/a0_0g/codeit_study/TransLab/Data/원본/대여이력정보(일별)_2307-12.csv')\n",
    "df_broken_22 = pd.read_csv('C:/Users/a0_0g/codeit_study/TransLab/Data/원본/고장신고내역(일별)_2207-12.csv')\n",
    "df_broken_23 = pd.read_csv('C:/Users/a0_0g/codeit_study/TransLab/Data/원본/고장신고내역(일별)_2307-12.csv')"
   ]
  },
  {
   "cell_type": "code",
   "execution_count": 5,
   "metadata": {},
   "outputs": [],
   "source": [
    "df_broken = pd.concat([df_broken_22, df_broken_23], ignore_index = True)\n",
    "df_rental = pd.concat([df_rental_22, df_rental_23], ignore_index = True)"
   ]
  },
  {
   "cell_type": "code",
   "execution_count": null,
   "metadata": {},
   "outputs": [],
   "source": [
    "# from utils import pipe_newb, pipe_broken, pipe_rental\n",
    "\n",
    "# df_newb = pipe_newb(df_newb)\n",
    "# df_rental = pipe_rental(df_rental)\n",
    "# df_broken = pipe_broken(df_broken)"
   ]
  },
  {
   "cell_type": "markdown",
   "metadata": {},
   "source": [
    "---\n",
    "---"
   ]
  },
  {
   "cell_type": "markdown",
   "metadata": {},
   "source": [
    "# 데이터 전처리"
   ]
  },
  {
   "cell_type": "markdown",
   "metadata": {},
   "source": [
    "## 1. newb data"
   ]
  },
  {
   "cell_type": "markdown",
   "metadata": {},
   "source": [
    "### 1) 데이터확인"
   ]
  },
  {
   "cell_type": "code",
   "execution_count": 7,
   "metadata": {},
   "outputs": [
    {
     "data": {
      "text/html": [
       "<div>\n",
       "<style scoped>\n",
       "    .dataframe tbody tr th:only-of-type {\n",
       "        vertical-align: middle;\n",
       "    }\n",
       "\n",
       "    .dataframe tbody tr th {\n",
       "        vertical-align: top;\n",
       "    }\n",
       "\n",
       "    .dataframe thead th {\n",
       "        text-align: right;\n",
       "    }\n",
       "</style>\n",
       "<table border=\"1\" class=\"dataframe\">\n",
       "  <thead>\n",
       "    <tr style=\"text-align: right;\">\n",
       "      <th></th>\n",
       "      <th>가입일시</th>\n",
       "      <th>가입건수</th>\n",
       "      <th>year</th>\n",
       "    </tr>\n",
       "  </thead>\n",
       "  <tbody>\n",
       "    <tr>\n",
       "      <th>0</th>\n",
       "      <td>202207</td>\n",
       "      <td>56393</td>\n",
       "      <td>2022</td>\n",
       "    </tr>\n",
       "    <tr>\n",
       "      <th>1</th>\n",
       "      <td>202208</td>\n",
       "      <td>53853</td>\n",
       "      <td>2022</td>\n",
       "    </tr>\n",
       "    <tr>\n",
       "      <th>2</th>\n",
       "      <td>202209</td>\n",
       "      <td>81574</td>\n",
       "      <td>2022</td>\n",
       "    </tr>\n",
       "    <tr>\n",
       "      <th>3</th>\n",
       "      <td>202210</td>\n",
       "      <td>62511</td>\n",
       "      <td>2022</td>\n",
       "    </tr>\n",
       "    <tr>\n",
       "      <th>4</th>\n",
       "      <td>202211</td>\n",
       "      <td>36600</td>\n",
       "      <td>2022</td>\n",
       "    </tr>\n",
       "    <tr>\n",
       "      <th>5</th>\n",
       "      <td>202212</td>\n",
       "      <td>11530</td>\n",
       "      <td>2022</td>\n",
       "    </tr>\n",
       "    <tr>\n",
       "      <th>6</th>\n",
       "      <td>202307</td>\n",
       "      <td>42649</td>\n",
       "      <td>2023</td>\n",
       "    </tr>\n",
       "    <tr>\n",
       "      <th>7</th>\n",
       "      <td>202308</td>\n",
       "      <td>41346</td>\n",
       "      <td>2023</td>\n",
       "    </tr>\n",
       "    <tr>\n",
       "      <th>8</th>\n",
       "      <td>202309</td>\n",
       "      <td>61111</td>\n",
       "      <td>2023</td>\n",
       "    </tr>\n",
       "    <tr>\n",
       "      <th>9</th>\n",
       "      <td>202310</td>\n",
       "      <td>66836</td>\n",
       "      <td>2023</td>\n",
       "    </tr>\n",
       "    <tr>\n",
       "      <th>10</th>\n",
       "      <td>202311</td>\n",
       "      <td>21743</td>\n",
       "      <td>2023</td>\n",
       "    </tr>\n",
       "    <tr>\n",
       "      <th>11</th>\n",
       "      <td>202312</td>\n",
       "      <td>13344</td>\n",
       "      <td>2023</td>\n",
       "    </tr>\n",
       "  </tbody>\n",
       "</table>\n",
       "</div>"
      ],
      "text/plain": [
       "      가입일시   가입건수  year\n",
       "0   202207  56393  2022\n",
       "1   202208  53853  2022\n",
       "2   202209  81574  2022\n",
       "3   202210  62511  2022\n",
       "4   202211  36600  2022\n",
       "5   202212  11530  2022\n",
       "6   202307  42649  2023\n",
       "7   202308  41346  2023\n",
       "8   202309  61111  2023\n",
       "9   202310  66836  2023\n",
       "10  202311  21743  2023\n",
       "11  202312  13344  2023"
      ]
     },
     "execution_count": 7,
     "metadata": {},
     "output_type": "execute_result"
    }
   ],
   "source": [
    "df_newb"
   ]
  },
  {
   "cell_type": "markdown",
   "metadata": {},
   "source": [
    "### 2) 타입 변환"
   ]
  },
  {
   "cell_type": "markdown",
   "metadata": {},
   "source": [
    "- 가입일시 데이터타입 변환\n",
    "    - 가입일시가 년월로 되어있어 바로 datetime으로 변환시 날짜가 제대로 나오지 않음.\n",
    "    - period 사용하여 년-월 로 인식할 수 있게 바꿔준 후 year 제거."
   ]
  },
  {
   "cell_type": "code",
   "execution_count": 8,
   "metadata": {},
   "outputs": [],
   "source": [
    "df_newb['가입일시'] = (\n",
    "    df_newb['가입일시']\n",
    "    .astype('str')\n",
    "    .apply(lambda x: x[:4] + '-' + x[4:])\n",
    "    .apply(lambda x: pd.to_datetime(x)).dt.to_period('M')\n",
    ")\n",
    "\n",
    "df_newb.drop(columns=['year'], inplace=True)"
   ]
  },
  {
   "cell_type": "markdown",
   "metadata": {},
   "source": [
    "### 최종데이터"
   ]
  },
  {
   "cell_type": "code",
   "execution_count": 9,
   "metadata": {},
   "outputs": [
    {
     "data": {
      "text/html": [
       "<div>\n",
       "<style scoped>\n",
       "    .dataframe tbody tr th:only-of-type {\n",
       "        vertical-align: middle;\n",
       "    }\n",
       "\n",
       "    .dataframe tbody tr th {\n",
       "        vertical-align: top;\n",
       "    }\n",
       "\n",
       "    .dataframe thead th {\n",
       "        text-align: right;\n",
       "    }\n",
       "</style>\n",
       "<table border=\"1\" class=\"dataframe\">\n",
       "  <thead>\n",
       "    <tr style=\"text-align: right;\">\n",
       "      <th></th>\n",
       "      <th>가입일시</th>\n",
       "      <th>가입건수</th>\n",
       "    </tr>\n",
       "  </thead>\n",
       "  <tbody>\n",
       "    <tr>\n",
       "      <th>0</th>\n",
       "      <td>2022-07</td>\n",
       "      <td>56393</td>\n",
       "    </tr>\n",
       "    <tr>\n",
       "      <th>1</th>\n",
       "      <td>2022-08</td>\n",
       "      <td>53853</td>\n",
       "    </tr>\n",
       "    <tr>\n",
       "      <th>2</th>\n",
       "      <td>2022-09</td>\n",
       "      <td>81574</td>\n",
       "    </tr>\n",
       "    <tr>\n",
       "      <th>3</th>\n",
       "      <td>2022-10</td>\n",
       "      <td>62511</td>\n",
       "    </tr>\n",
       "    <tr>\n",
       "      <th>4</th>\n",
       "      <td>2022-11</td>\n",
       "      <td>36600</td>\n",
       "    </tr>\n",
       "    <tr>\n",
       "      <th>5</th>\n",
       "      <td>2022-12</td>\n",
       "      <td>11530</td>\n",
       "    </tr>\n",
       "    <tr>\n",
       "      <th>6</th>\n",
       "      <td>2023-07</td>\n",
       "      <td>42649</td>\n",
       "    </tr>\n",
       "    <tr>\n",
       "      <th>7</th>\n",
       "      <td>2023-08</td>\n",
       "      <td>41346</td>\n",
       "    </tr>\n",
       "    <tr>\n",
       "      <th>8</th>\n",
       "      <td>2023-09</td>\n",
       "      <td>61111</td>\n",
       "    </tr>\n",
       "    <tr>\n",
       "      <th>9</th>\n",
       "      <td>2023-10</td>\n",
       "      <td>66836</td>\n",
       "    </tr>\n",
       "    <tr>\n",
       "      <th>10</th>\n",
       "      <td>2023-11</td>\n",
       "      <td>21743</td>\n",
       "    </tr>\n",
       "    <tr>\n",
       "      <th>11</th>\n",
       "      <td>2023-12</td>\n",
       "      <td>13344</td>\n",
       "    </tr>\n",
       "  </tbody>\n",
       "</table>\n",
       "</div>"
      ],
      "text/plain": [
       "       가입일시   가입건수\n",
       "0   2022-07  56393\n",
       "1   2022-08  53853\n",
       "2   2022-09  81574\n",
       "3   2022-10  62511\n",
       "4   2022-11  36600\n",
       "5   2022-12  11530\n",
       "6   2023-07  42649\n",
       "7   2023-08  41346\n",
       "8   2023-09  61111\n",
       "9   2023-10  66836\n",
       "10  2023-11  21743\n",
       "11  2023-12  13344"
      ]
     },
     "execution_count": 9,
     "metadata": {},
     "output_type": "execute_result"
    }
   ],
   "source": [
    "df_newb"
   ]
  },
  {
   "cell_type": "markdown",
   "metadata": {},
   "source": [
    "---"
   ]
  },
  {
   "cell_type": "markdown",
   "metadata": {},
   "source": [
    "## 2. broken data"
   ]
  },
  {
   "cell_type": "markdown",
   "metadata": {},
   "source": [
    "### 1) 데이터 확인\n",
    "- broken data 총 194,729건"
   ]
  },
  {
   "cell_type": "code",
   "execution_count": 10,
   "metadata": {},
   "outputs": [
    {
     "data": {
      "text/html": [
       "<div>\n",
       "<style scoped>\n",
       "    .dataframe tbody tr th:only-of-type {\n",
       "        vertical-align: middle;\n",
       "    }\n",
       "\n",
       "    .dataframe tbody tr th {\n",
       "        vertical-align: top;\n",
       "    }\n",
       "\n",
       "    .dataframe thead th {\n",
       "        text-align: right;\n",
       "    }\n",
       "</style>\n",
       "<table border=\"1\" class=\"dataframe\">\n",
       "  <thead>\n",
       "    <tr style=\"text-align: right;\">\n",
       "      <th></th>\n",
       "      <th>자전거번호</th>\n",
       "      <th>등록일시</th>\n",
       "      <th>고장구분</th>\n",
       "    </tr>\n",
       "  </thead>\n",
       "  <tbody>\n",
       "    <tr>\n",
       "      <th>0</th>\n",
       "      <td>SPB-30229</td>\n",
       "      <td>2022-07-01 00:44:33</td>\n",
       "      <td>페달</td>\n",
       "    </tr>\n",
       "    <tr>\n",
       "      <th>1</th>\n",
       "      <td>SPB-40134</td>\n",
       "      <td>2022-07-01 00:57:59</td>\n",
       "      <td>페달</td>\n",
       "    </tr>\n",
       "    <tr>\n",
       "      <th>2</th>\n",
       "      <td>SPB-40789</td>\n",
       "      <td>2022-07-01 01:08:25</td>\n",
       "      <td>안장</td>\n",
       "    </tr>\n",
       "    <tr>\n",
       "      <th>3</th>\n",
       "      <td>SPB-50932</td>\n",
       "      <td>2022-07-01 01:09:33</td>\n",
       "      <td>체인</td>\n",
       "    </tr>\n",
       "    <tr>\n",
       "      <th>4</th>\n",
       "      <td>SPB-41175</td>\n",
       "      <td>2022-07-01 01:13:06</td>\n",
       "      <td>안장</td>\n",
       "    </tr>\n",
       "  </tbody>\n",
       "</table>\n",
       "</div>"
      ],
      "text/plain": [
       "       자전거번호                 등록일시 고장구분\n",
       "0  SPB-30229  2022-07-01 00:44:33   페달\n",
       "1  SPB-40134  2022-07-01 00:57:59   페달\n",
       "2  SPB-40789  2022-07-01 01:08:25   안장\n",
       "3  SPB-50932  2022-07-01 01:09:33   체인\n",
       "4  SPB-41175  2022-07-01 01:13:06   안장"
      ]
     },
     "execution_count": 10,
     "metadata": {},
     "output_type": "execute_result"
    }
   ],
   "source": [
    "df_broken.head(5)"
   ]
  },
  {
   "cell_type": "code",
   "execution_count": 11,
   "metadata": {},
   "outputs": [
    {
     "name": "stdout",
     "output_type": "stream",
     "text": [
      "<class 'pandas.core.frame.DataFrame'>\n",
      "RangeIndex: 194729 entries, 0 to 194728\n",
      "Data columns (total 3 columns):\n",
      " #   Column  Non-Null Count   Dtype \n",
      "---  ------  --------------   ----- \n",
      " 0   자전거번호   194729 non-null  object\n",
      " 1   등록일시    194729 non-null  object\n",
      " 2   고장구분    194729 non-null  object\n",
      "dtypes: object(3)\n",
      "memory usage: 4.5+ MB\n"
     ]
    }
   ],
   "source": [
    "df_broken.info()"
   ]
  },
  {
   "cell_type": "markdown",
   "metadata": {},
   "source": [
    "### 2) 타입 변환\n",
    "- 등록일시가 년월일시간으로 되어있어 datetime으로 변환"
   ]
  },
  {
   "cell_type": "code",
   "execution_count": 13,
   "metadata": {},
   "outputs": [],
   "source": [
    "df_broken['등록일시'] = pd.to_datetime(df_broken['등록일시'])"
   ]
  },
  {
   "cell_type": "code",
   "execution_count": 14,
   "metadata": {},
   "outputs": [
    {
     "name": "stdout",
     "output_type": "stream",
     "text": [
      "<class 'pandas.core.frame.DataFrame'>\n",
      "RangeIndex: 194729 entries, 0 to 194728\n",
      "Data columns (total 3 columns):\n",
      " #   Column  Non-Null Count   Dtype         \n",
      "---  ------  --------------   -----         \n",
      " 0   자전거번호   194729 non-null  object        \n",
      " 1   등록일시    194729 non-null  datetime64[ns]\n",
      " 2   고장구분    194729 non-null  object        \n",
      "dtypes: datetime64[ns](1), object(2)\n",
      "memory usage: 4.5+ MB\n"
     ]
    }
   ],
   "source": [
    "df_broken.info()"
   ]
  },
  {
   "cell_type": "markdown",
   "metadata": {},
   "source": [
    "### 3) 중복값 확인"
   ]
  },
  {
   "cell_type": "markdown",
   "metadata": {},
   "source": [
    "- 중복값 1개 존재\n",
    "    - 자전거번호, 등록일시, 고장구분이 똑같은 데이터 존재\n",
    "    - 해당 데이터를 확인해보았을 때, 시스템상 오류로 같은 데이터가 두 번들어간 것으로 보여 제거"
   ]
  },
  {
   "cell_type": "code",
   "execution_count": 15,
   "metadata": {},
   "outputs": [
    {
     "data": {
      "text/plain": [
       "np.int64(1)"
      ]
     },
     "execution_count": 15,
     "metadata": {},
     "output_type": "execute_result"
    }
   ],
   "source": [
    "df_broken.duplicated().sum()"
   ]
  },
  {
   "cell_type": "code",
   "execution_count": 16,
   "metadata": {},
   "outputs": [],
   "source": [
    "df_broken.drop_duplicates(inplace = True)"
   ]
  },
  {
   "cell_type": "markdown",
   "metadata": {},
   "source": [
    "### 최종데이터\n",
    "- broken data 총 194,728건"
   ]
  },
  {
   "cell_type": "code",
   "execution_count": 17,
   "metadata": {},
   "outputs": [
    {
     "name": "stdout",
     "output_type": "stream",
     "text": [
      "<class 'pandas.core.frame.DataFrame'>\n",
      "Index: 194728 entries, 0 to 194728\n",
      "Data columns (total 3 columns):\n",
      " #   Column  Non-Null Count   Dtype         \n",
      "---  ------  --------------   -----         \n",
      " 0   자전거번호   194728 non-null  object        \n",
      " 1   등록일시    194728 non-null  datetime64[ns]\n",
      " 2   고장구분    194728 non-null  object        \n",
      "dtypes: datetime64[ns](1), object(2)\n",
      "memory usage: 5.9+ MB\n"
     ]
    }
   ],
   "source": [
    "df_broken.info()"
   ]
  },
  {
   "cell_type": "markdown",
   "metadata": {},
   "source": [
    "---"
   ]
  },
  {
   "cell_type": "markdown",
   "metadata": {},
   "source": [
    "## 3. rental data"
   ]
  },
  {
   "cell_type": "markdown",
   "metadata": {},
   "source": [
    "### 1) 데이터 확인"
   ]
  },
  {
   "cell_type": "markdown",
   "metadata": {},
   "source": [
    "- rentaldata 총 47,375,277"
   ]
  },
  {
   "cell_type": "code",
   "execution_count": 18,
   "metadata": {},
   "outputs": [
    {
     "data": {
      "text/html": [
       "<div>\n",
       "<style scoped>\n",
       "    .dataframe tbody tr th:only-of-type {\n",
       "        vertical-align: middle;\n",
       "    }\n",
       "\n",
       "    .dataframe tbody tr th {\n",
       "        vertical-align: top;\n",
       "    }\n",
       "\n",
       "    .dataframe thead th {\n",
       "        text-align: right;\n",
       "    }\n",
       "</style>\n",
       "<table border=\"1\" class=\"dataframe\">\n",
       "  <thead>\n",
       "    <tr style=\"text-align: right;\">\n",
       "      <th></th>\n",
       "      <th>자전거번호</th>\n",
       "      <th>대여일시</th>\n",
       "      <th>대여 대여소번호</th>\n",
       "      <th>대여 대여소명</th>\n",
       "      <th>대여거치대</th>\n",
       "      <th>반납일시</th>\n",
       "      <th>반납대여소번호</th>\n",
       "      <th>반납대여소명</th>\n",
       "      <th>반납거치대</th>\n",
       "      <th>이용시간(분)</th>\n",
       "      <th>이용거리(M)</th>\n",
       "      <th>생년</th>\n",
       "      <th>성별</th>\n",
       "      <th>이용자종류</th>\n",
       "      <th>대여대여소ID</th>\n",
       "      <th>반납대여소ID</th>\n",
       "      <th>자전거구분</th>\n",
       "    </tr>\n",
       "  </thead>\n",
       "  <tbody>\n",
       "    <tr>\n",
       "      <th>0</th>\n",
       "      <td>SPB-39460</td>\n",
       "      <td>2022-07-01 00:00:09</td>\n",
       "      <td>1124</td>\n",
       "      <td>발산역 6번 출구 뒤</td>\n",
       "      <td>0</td>\n",
       "      <td>2022-07-01 00:05:21</td>\n",
       "      <td>01180</td>\n",
       "      <td>마곡엠밸리 15단지(1502동) 건너편</td>\n",
       "      <td>0</td>\n",
       "      <td>5</td>\n",
       "      <td>774.45</td>\n",
       "      <td>2002</td>\n",
       "      <td>\\N</td>\n",
       "      <td>내국인</td>\n",
       "      <td>ST-522</td>\n",
       "      <td>ST-1517</td>\n",
       "      <td>NaN</td>\n",
       "    </tr>\n",
       "    <tr>\n",
       "      <th>1</th>\n",
       "      <td>SPB-34271</td>\n",
       "      <td>2022-07-01 00:00:10</td>\n",
       "      <td>296</td>\n",
       "      <td>KT플라자 영등포점</td>\n",
       "      <td>0</td>\n",
       "      <td>2022-07-01 00:07:46</td>\n",
       "      <td>03202</td>\n",
       "      <td>당산롯데캐슬프레스티지</td>\n",
       "      <td>0</td>\n",
       "      <td>7</td>\n",
       "      <td>297.65</td>\n",
       "      <td>2003</td>\n",
       "      <td>F</td>\n",
       "      <td>내국인</td>\n",
       "      <td>ST-1968</td>\n",
       "      <td>ST-1973</td>\n",
       "      <td>NaN</td>\n",
       "    </tr>\n",
       "    <tr>\n",
       "      <th>2</th>\n",
       "      <td>SPB-31521</td>\n",
       "      <td>2022-07-01 00:00:13</td>\n",
       "      <td>347</td>\n",
       "      <td>동대문역사문화공원역 9번출구 앞</td>\n",
       "      <td>0</td>\n",
       "      <td>2022-07-01 00:08:19</td>\n",
       "      <td>00455</td>\n",
       "      <td>종로6가역 버스정류장(동대문 방향)</td>\n",
       "      <td>0</td>\n",
       "      <td>8</td>\n",
       "      <td>995.92</td>\n",
       "      <td>1990</td>\n",
       "      <td>\\N</td>\n",
       "      <td>내국인</td>\n",
       "      <td>ST-163</td>\n",
       "      <td>ST-1608</td>\n",
       "      <td>NaN</td>\n",
       "    </tr>\n",
       "    <tr>\n",
       "      <th>3</th>\n",
       "      <td>SPB-43216</td>\n",
       "      <td>2022-07-01 00:00:16</td>\n",
       "      <td>2824</td>\n",
       "      <td>미래사랑어린이공원 앞</td>\n",
       "      <td>0</td>\n",
       "      <td>2022-07-01 00:23:51</td>\n",
       "      <td>01907</td>\n",
       "      <td>구일우성(아) 육교 밑</td>\n",
       "      <td>0</td>\n",
       "      <td>23</td>\n",
       "      <td>3356.68</td>\n",
       "      <td>1985</td>\n",
       "      <td>M</td>\n",
       "      <td>내국인</td>\n",
       "      <td>ST-1964</td>\n",
       "      <td>ST-665</td>\n",
       "      <td>NaN</td>\n",
       "    </tr>\n",
       "    <tr>\n",
       "      <th>4</th>\n",
       "      <td>SPB-59945</td>\n",
       "      <td>2022-07-01 00:00:17</td>\n",
       "      <td>2620</td>\n",
       "      <td>송파나루역 4번 출구옆</td>\n",
       "      <td>0</td>\n",
       "      <td>2022-07-01 00:09:58</td>\n",
       "      <td>04486</td>\n",
       "      <td>홈플러스 잠실점</td>\n",
       "      <td>0</td>\n",
       "      <td>9</td>\n",
       "      <td>1360.00</td>\n",
       "      <td>2000</td>\n",
       "      <td>M</td>\n",
       "      <td>내국인</td>\n",
       "      <td>ST-1730</td>\n",
       "      <td>ST-2596</td>\n",
       "      <td>NaN</td>\n",
       "    </tr>\n",
       "  </tbody>\n",
       "</table>\n",
       "</div>"
      ],
      "text/plain": [
       "       자전거번호                 대여일시  대여 대여소번호            대여 대여소명  대여거치대  \\\n",
       "0  SPB-39460  2022-07-01 00:00:09      1124        발산역 6번 출구 뒤      0   \n",
       "1  SPB-34271  2022-07-01 00:00:10       296         KT플라자 영등포점      0   \n",
       "2  SPB-31521  2022-07-01 00:00:13       347  동대문역사문화공원역 9번출구 앞      0   \n",
       "3  SPB-43216  2022-07-01 00:00:16      2824        미래사랑어린이공원 앞      0   \n",
       "4  SPB-59945  2022-07-01 00:00:17      2620       송파나루역 4번 출구옆      0   \n",
       "\n",
       "                  반납일시 반납대여소번호                 반납대여소명 반납거치대  이용시간(분)  이용거리(M)  \\\n",
       "0  2022-07-01 00:05:21   01180  마곡엠밸리 15단지(1502동) 건너편     0        5   774.45   \n",
       "1  2022-07-01 00:07:46   03202            당산롯데캐슬프레스티지     0        7   297.65   \n",
       "2  2022-07-01 00:08:19   00455    종로6가역 버스정류장(동대문 방향)     0        8   995.92   \n",
       "3  2022-07-01 00:23:51   01907           구일우성(아) 육교 밑     0       23  3356.68   \n",
       "4  2022-07-01 00:09:58   04486               홈플러스 잠실점     0        9  1360.00   \n",
       "\n",
       "     생년  성별 이용자종류  대여대여소ID  반납대여소ID 자전거구분  \n",
       "0  2002  \\N   내국인   ST-522  ST-1517   NaN  \n",
       "1  2003   F   내국인  ST-1968  ST-1973   NaN  \n",
       "2  1990  \\N   내국인   ST-163  ST-1608   NaN  \n",
       "3  1985   M   내국인  ST-1964   ST-665   NaN  \n",
       "4  2000   M   내국인  ST-1730  ST-2596   NaN  "
      ]
     },
     "execution_count": 18,
     "metadata": {},
     "output_type": "execute_result"
    }
   ],
   "source": [
    "df_rental.head(5)"
   ]
  },
  {
   "cell_type": "code",
   "execution_count": 19,
   "metadata": {},
   "outputs": [
    {
     "name": "stdout",
     "output_type": "stream",
     "text": [
      "<class 'pandas.core.frame.DataFrame'>\n",
      "RangeIndex: 47375277 entries, 0 to 47375276\n",
      "Data columns (total 17 columns):\n",
      " #   Column    Dtype  \n",
      "---  ------    -----  \n",
      " 0   자전거번호     object \n",
      " 1   대여일시      object \n",
      " 2   대여 대여소번호  int64  \n",
      " 3   대여 대여소명   object \n",
      " 4   대여거치대     int64  \n",
      " 5   반납일시      object \n",
      " 6   반납대여소번호   object \n",
      " 7   반납대여소명    object \n",
      " 8   반납거치대     object \n",
      " 9   이용시간(분)   int64  \n",
      " 10  이용거리(M)   float64\n",
      " 11  생년        object \n",
      " 12  성별        object \n",
      " 13  이용자종류     object \n",
      " 14  대여대여소ID   object \n",
      " 15  반납대여소ID   object \n",
      " 16  자전거구분     object \n",
      "dtypes: float64(1), int64(3), object(13)\n",
      "memory usage: 6.0+ GB\n"
     ]
    }
   ],
   "source": [
    "df_rental.info()"
   ]
  },
  {
   "cell_type": "markdown",
   "metadata": {},
   "source": [
    "### 1) 중복값 확인\n",
    "- 존재하지 않음."
   ]
  },
  {
   "cell_type": "code",
   "execution_count": 22,
   "metadata": {},
   "outputs": [
    {
     "data": {
      "text/plain": [
       "np.int64(338)"
      ]
     },
     "execution_count": 22,
     "metadata": {},
     "output_type": "execute_result"
    }
   ],
   "source": [
    "df_rental.duplicated().sum()"
   ]
  },
  {
   "cell_type": "markdown",
   "metadata": {},
   "source": [
    "### 2) 1차 변수 선별\n",
    "- 사용하지않는 변수제거"
   ]
  },
  {
   "cell_type": "code",
   "execution_count": 20,
   "metadata": {},
   "outputs": [],
   "source": [
    "df_rental.drop(columns=['자전거구분', '성별', '대여거치대', '반납일시', '반납거치대', '대여 대여소번호', '대여 대여소명', '반납대여소번호', '반납대여소명'], inplace=True)"
   ]
  },
  {
   "cell_type": "markdown",
   "metadata": {},
   "source": [
    "### 3) 타입변환\n",
    "- 대여일시 년월일시간으로 되어있어 datetime타입으로 변환"
   ]
  },
  {
   "cell_type": "code",
   "execution_count": 21,
   "metadata": {},
   "outputs": [],
   "source": [
    "df_rental['대여일시'] = pd.to_datetime(df_rental['대여일시'])"
   ]
  },
  {
   "cell_type": "markdown",
   "metadata": {},
   "source": [
    "### 4) 결측치 확인"
   ]
  },
  {
   "cell_type": "markdown",
   "metadata": {},
   "source": [
    "- 결측치가 '\\N'으로 들어가있어서 변환"
   ]
  },
  {
   "cell_type": "code",
   "execution_count": 23,
   "metadata": {},
   "outputs": [],
   "source": [
    "df_rental.replace('\\\\N', np.nan, inplace=True)"
   ]
  },
  {
   "cell_type": "markdown",
   "metadata": {},
   "source": [
    "- 당시(22년도, 23년도) 회원의 나이가 필요하기때문에 '생년' 결측치 제외"
   ]
  },
  {
   "cell_type": "code",
   "execution_count": 24,
   "metadata": {},
   "outputs": [],
   "source": [
    "df_rental.dropna(subset = ['생년'], inplace = True)"
   ]
  },
  {
   "cell_type": "markdown",
   "metadata": {},
   "source": [
    "- '반납대여소ID' 결측치 제외\n",
    "    - 반납시간은 존재하지만 반납대여소ID가 없는 경우가 있음.\n",
    "    - 이 경우 시스템오류 & 사용자가 직접 반납이 되지 않은 경우 강제반납프로세스를 통해 반납처리가 된 경우라고 확인됨. <br/>\n",
    "    -> 어떤 경우로 처리가 되었는지 알 수 없으므로 오류로 분류하여 제외"
   ]
  },
  {
   "cell_type": "code",
   "execution_count": 25,
   "metadata": {},
   "outputs": [],
   "source": [
    "df_rental.dropna(subset = ['반납대여소ID'], inplace = True)"
   ]
  },
  {
   "cell_type": "markdown",
   "metadata": {},
   "source": [
    "### 6) 이상치 제외"
   ]
  },
  {
   "cell_type": "markdown",
   "metadata": {},
   "source": [
    "- 이용자 종류\n",
    "    - 이용자 종류에서 외국인 제외\n",
    "    - 외국인의 경우 내국인에 비해 긴 시간동안 이용해 서울 관광이 중심인 것을 확인할 수 있음. <br/>\n",
    "        -> 따라서 버스와 지하철 요금인상에 영향을 받지 않으므로 제외"
   ]
  },
  {
   "cell_type": "code",
   "execution_count": 26,
   "metadata": {},
   "outputs": [],
   "source": [
    "df_rental = df_rental[df_rental['이용자종류'] != '외국인']"
   ]
  },
  {
   "cell_type": "markdown",
   "metadata": {},
   "source": [
    "- 나이 조건\n",
    "    - 따릉이의 경우 만 14세부터 사용할 수 있고, 버스와 지하철의 경우 65세이후는 무료탑승\n",
    "    - 만14세이상 만65세미만 데이터 사용\n",
    "        - 2022년 기준: 만 14세 2008년생, 만 64세 1958년생\n",
    "        - 2023년 기준: 만 14세 2009년생, 만 64세 1959년생"
   ]
  },
  {
   "cell_type": "code",
   "execution_count": 27,
   "metadata": {},
   "outputs": [],
   "source": [
    "df_rental['나이(만)'] = df_rental['대여일시'].dt.year - df_rental['생년'].astype('int')"
   ]
  },
  {
   "cell_type": "code",
   "execution_count": 28,
   "metadata": {},
   "outputs": [],
   "source": [
    "df_rental = df_rental[(df_rental['나이(만)'] >= 14) & (df_rental['나이(만)'] <= 64)]"
   ]
  },
  {
   "cell_type": "markdown",
   "metadata": {},
   "source": [
    "- 이용거리(M), 이용시간(분)\n",
    "    - 이용거리(M), 이용시간(분)이 0인 경우 오류\n",
    "    - 이용거리(M) 1km(1000m)이상 15km(15000m)이하 / 이용시간(분) 5분이상 60분이하\n",
    "        - 실제 버스와 지하철 대신 따릉이를 사용한다면 실제 사용할 시간과 거리를 생각해봄.\n",
    "        - 따릉이를 1시간이상 타게되면 버스와 지하철대신 타는 것보다 요금이 비싸짐\n",
    "        - 대체로 출퇴근시간대에 집중되어있고, 단거리에 많이 사용하며, 평균적으로 걸리는 시간과 거리를 고려함.\n",
    "    "
   ]
  },
  {
   "cell_type": "code",
   "execution_count": 29,
   "metadata": {},
   "outputs": [],
   "source": [
    "df_rental = df_rental[(df_rental['이용거리(M)'] >= 1000) & (df_rental['이용거리(M)'] <= 15000)]"
   ]
  },
  {
   "cell_type": "code",
   "execution_count": 30,
   "metadata": {},
   "outputs": [],
   "source": [
    "df_rental = df_rental[(df_rental['이용시간(분)'] >= 5) & (df_rental['이용시간(분)'] <= 60)]"
   ]
  },
  {
   "cell_type": "markdown",
   "metadata": {},
   "source": [
    "### 7) 2차변수 제거\n",
    "- 이상치제거, 파생변수 만든 후 변수 제거"
   ]
  },
  {
   "cell_type": "code",
   "execution_count": 31,
   "metadata": {},
   "outputs": [],
   "source": [
    "df_rental.drop(columns=['생년', '이용자종류'], inplace=True)"
   ]
  },
  {
   "cell_type": "markdown",
   "metadata": {},
   "source": [
    "### 최종데이터\n",
    "- rentaldata 총 24,872,129건"
   ]
  },
  {
   "cell_type": "code",
   "execution_count": 32,
   "metadata": {},
   "outputs": [
    {
     "data": {
      "text/html": [
       "<div>\n",
       "<style scoped>\n",
       "    .dataframe tbody tr th:only-of-type {\n",
       "        vertical-align: middle;\n",
       "    }\n",
       "\n",
       "    .dataframe tbody tr th {\n",
       "        vertical-align: top;\n",
       "    }\n",
       "\n",
       "    .dataframe thead th {\n",
       "        text-align: right;\n",
       "    }\n",
       "</style>\n",
       "<table border=\"1\" class=\"dataframe\">\n",
       "  <thead>\n",
       "    <tr style=\"text-align: right;\">\n",
       "      <th></th>\n",
       "      <th>자전거번호</th>\n",
       "      <th>대여일시</th>\n",
       "      <th>이용시간(분)</th>\n",
       "      <th>이용거리(M)</th>\n",
       "      <th>대여대여소ID</th>\n",
       "      <th>반납대여소ID</th>\n",
       "      <th>나이(만)</th>\n",
       "    </tr>\n",
       "  </thead>\n",
       "  <tbody>\n",
       "    <tr>\n",
       "      <th>3</th>\n",
       "      <td>SPB-43216</td>\n",
       "      <td>2022-07-01 00:00:16</td>\n",
       "      <td>23</td>\n",
       "      <td>3356.68</td>\n",
       "      <td>ST-1964</td>\n",
       "      <td>ST-665</td>\n",
       "      <td>37</td>\n",
       "    </tr>\n",
       "    <tr>\n",
       "      <th>4</th>\n",
       "      <td>SPB-59945</td>\n",
       "      <td>2022-07-01 00:00:17</td>\n",
       "      <td>9</td>\n",
       "      <td>1360.00</td>\n",
       "      <td>ST-1730</td>\n",
       "      <td>ST-2596</td>\n",
       "      <td>22</td>\n",
       "    </tr>\n",
       "    <tr>\n",
       "      <th>5</th>\n",
       "      <td>SPB-41020</td>\n",
       "      <td>2022-07-01 00:00:20</td>\n",
       "      <td>12</td>\n",
       "      <td>1848.00</td>\n",
       "      <td>ST-1136</td>\n",
       "      <td>ST-1120</td>\n",
       "      <td>55</td>\n",
       "    </tr>\n",
       "    <tr>\n",
       "      <th>6</th>\n",
       "      <td>SPB-60168</td>\n",
       "      <td>2022-07-01 00:00:20</td>\n",
       "      <td>6</td>\n",
       "      <td>1510.00</td>\n",
       "      <td>ST-1462</td>\n",
       "      <td>ST-1135</td>\n",
       "      <td>28</td>\n",
       "    </tr>\n",
       "    <tr>\n",
       "      <th>7</th>\n",
       "      <td>SPB-63298</td>\n",
       "      <td>2022-07-01 00:00:22</td>\n",
       "      <td>18</td>\n",
       "      <td>1700.00</td>\n",
       "      <td>ST-3029</td>\n",
       "      <td>ST-639</td>\n",
       "      <td>30</td>\n",
       "    </tr>\n",
       "  </tbody>\n",
       "</table>\n",
       "</div>"
      ],
      "text/plain": [
       "       자전거번호                대여일시  이용시간(분)  이용거리(M)  대여대여소ID  반납대여소ID  나이(만)\n",
       "3  SPB-43216 2022-07-01 00:00:16       23  3356.68  ST-1964   ST-665     37\n",
       "4  SPB-59945 2022-07-01 00:00:17        9  1360.00  ST-1730  ST-2596     22\n",
       "5  SPB-41020 2022-07-01 00:00:20       12  1848.00  ST-1136  ST-1120     55\n",
       "6  SPB-60168 2022-07-01 00:00:20        6  1510.00  ST-1462  ST-1135     28\n",
       "7  SPB-63298 2022-07-01 00:00:22       18  1700.00  ST-3029   ST-639     30"
      ]
     },
     "execution_count": 32,
     "metadata": {},
     "output_type": "execute_result"
    }
   ],
   "source": [
    "df_rental.head(5)"
   ]
  },
  {
   "cell_type": "code",
   "execution_count": 33,
   "metadata": {},
   "outputs": [
    {
     "name": "stdout",
     "output_type": "stream",
     "text": [
      "<class 'pandas.core.frame.DataFrame'>\n",
      "Index: 24872129 entries, 3 to 47375275\n",
      "Data columns (total 7 columns):\n",
      " #   Column   Dtype         \n",
      "---  ------   -----         \n",
      " 0   자전거번호    object        \n",
      " 1   대여일시     datetime64[ns]\n",
      " 2   이용시간(분)  int64         \n",
      " 3   이용거리(M)  float64       \n",
      " 4   대여대여소ID  object        \n",
      " 5   반납대여소ID  object        \n",
      " 6   나이(만)    int64         \n",
      "dtypes: datetime64[ns](1), float64(1), int64(2), object(3)\n",
      "memory usage: 1.5+ GB\n"
     ]
    }
   ],
   "source": [
    "df_rental.info()"
   ]
  },
  {
   "cell_type": "markdown",
   "metadata": {},
   "source": [
    "---\n",
    "---"
   ]
  },
  {
   "cell_type": "markdown",
   "metadata": {},
   "source": [
    "# EDA"
   ]
  },
  {
   "cell_type": "code",
   "execution_count": null,
   "metadata": {},
   "outputs": [],
   "source": []
  },
  {
   "cell_type": "code",
   "execution_count": null,
   "metadata": {},
   "outputs": [],
   "source": []
  }
 ],
 "metadata": {
  "kernelspec": {
   "display_name": "base",
   "language": "python",
   "name": "python3"
  },
  "language_info": {
   "codemirror_mode": {
    "name": "ipython",
    "version": 3
   },
   "file_extension": ".py",
   "mimetype": "text/x-python",
   "name": "python",
   "nbconvert_exporter": "python",
   "pygments_lexer": "ipython3",
   "version": "3.12.1"
  }
 },
 "nbformat": 4,
 "nbformat_minor": 2
}
