{
 "cells": [
  {
   "cell_type": "markdown",
   "metadata": {},
   "source": [
    "# Imports"
   ]
  },
  {
   "cell_type": "code",
   "execution_count": 1,
   "metadata": {},
   "outputs": [],
   "source": [
    "import os \n",
    "import pandas as pd\n",
    "import numpy as np\n",
    "import matplotlib.pyplot as plt\n",
    "import seaborn as sns"
   ]
  },
  {
   "cell_type": "code",
   "execution_count": 2,
   "metadata": {},
   "outputs": [],
   "source": [
    "# custom parameters\n",
    "pd.set_option('display.max_columns', None)"
   ]
  },
  {
   "cell_type": "markdown",
   "metadata": {},
   "source": [
    "# 데이터셋"
   ]
  },
  {
   "cell_type": "markdown",
   "metadata": {},
   "source": [
    "| 데이터셋 이름 | 날짜 정보 | 내용 | 파일 명 |\n",
    "| ---------- | ------- | ----- | ---- |\n",
    "| 신규가입자 정보 | 월별/일별 | 가입 | 신규가입자정보(월별)_YYMM-MM.csv |\n",
    "| 고장신고 내역 | 월별 | 고장 | 고장신고내역(일별)_YYMM-MM.csv |\n",
    "| 대여이력 정보 | 일별 | 대여 | 대여이력정보(일별)_YYMM.csv |"
   ]
  },
  {
   "cell_type": "markdown",
   "metadata": {},
   "source": [
    "# 데이터셋 2022년 하반기, 2023년 하반기 병합"
   ]
  },
  {
   "cell_type": "markdown",
   "metadata": {},
   "source": [
    "병합용도 함수 만들기"
   ]
  },
  {
   "cell_type": "code",
   "execution_count": 38,
   "metadata": {},
   "outputs": [],
   "source": [
    "def merge_files(read_path: str, save_path: str, date_col: str) -> str:\n",
    "    broken_file_path = read_path\n",
    "    broken_data_dir = os.listdir(broken_file_path)\n",
    "    print(f'원래 파일 폴더: {broken_data_dir}\\n')\n",
    "\n",
    "    df22 = pd.DataFrame()\n",
    "    df23 = pd.DataFrame()\n",
    "    for file in broken_data_dir:\n",
    "        print(f'병합 진행중인 파일: {file}\\n')\n",
    "        try:\n",
    "            # try csv\n",
    "            df = pd.read_csv(f'{broken_file_path}/{file}', encoding='cp949')\n",
    "        except:\n",
    "            # else excel\n",
    "            df = pd.read_excel(f'{broken_file_path}/{file}')\n",
    "        # convert to datetime\n",
    "        df[date_col] = pd.to_datetime(df[date_col])\n",
    "        \n",
    "        # if year 2022\n",
    "        df22_new = df.loc[(df[date_col].dt.month.isin([month for month in range(6, 13)])) & (df[date_col].dt.year == 2022)]\n",
    "        df22 = pd.concat([df22, df22_new], axis=0)\n",
    "        df22 = df22.sort_values(by=date_col)\n",
    "        \n",
    "        # if year 2023\n",
    "        df23_new = df.loc[(df[date_col].dt.month.isin([month for month in range(6, 13)])) & (df[date_col].dt.year == 2023)]\n",
    "        df23 = pd.concat([df23, df23_new], axis=0)\n",
    "        df23 = df23.sort_values(by=date_col)\n",
    "    \n",
    "    # save files\n",
    "    df22.to_csv(f'{save_path}2207-12.csv', index=False)\n",
    "    df23.to_csv(f'{save_path}2307-12.csv', index=False)\n",
    "        \n",
    "    return f'모든 파일 병합 완료.'"
   ]
  },
  {
   "cell_type": "markdown",
   "metadata": {},
   "source": [
    "## 고장신고내역 병합"
   ]
  },
  {
   "cell_type": "markdown",
   "metadata": {},
   "source": [
    "원래 파일 폴더: ['고장신고내역(일별)_2311-12.csv', '고장신고내역(일별)_2207-12.csv', '고장신고내역(일별)_2307-10.csv']\n",
    "\n",
    "위의 데이터를 다음과 같이 병합:  \n",
    "\n",
    "2022년 하반기 -> 고장신고내역(일별)_2207-12.csv  \n",
    " \n",
    "2023년 하반기 -> 고장신고내역(일별)_2307-12.csv"
   ]
  },
  {
   "cell_type": "code",
   "execution_count": null,
   "metadata": {},
   "outputs": [],
   "source": [
    "read_path = './data/원본/고장'\n",
    "save_path = './data/원본/고장신고내역(일별)_'\n",
    "date_col = '등록일시'\n",
    "\n",
    "merge_files(read_path, save_path, date_col)"
   ]
  },
  {
   "cell_type": "markdown",
   "metadata": {},
   "source": [
    "## 대여이력정보 병합"
   ]
  },
  {
   "cell_type": "markdown",
   "metadata": {},
   "source": [
    "원래 파일 폴더: ['대여이력정보(일별)_2310.csv', '대여이력정보(일별)_2311.csv', '대여이력정보(일별)_2312.csv', '대여이력정보(일별)_2207.csv', '대여이력정보(일별)_2212.csv', '대여이력정보(일별)_2210.csv', '대여이력정보(일별)_2211.csv', '\\x08대여이력정보(일별)_2307.csv', '대여이력정보(일별)_2208.csv', '대여이력정보(일별)_2209.csv', '대여이력정보(일별)_2308.csv', '대여이력정보(일별)_2309.csv']\n",
    "\n",
    "위의 데이터를 다음과 같이 병합:\n",
    "\n",
    "2022년 하반기 -> 대여이력정보(일별)_2207-12.csv\n",
    "\n",
    "2023년 하반기 -> 대여이력정보(일별)_2307-12.csv"
   ]
  },
  {
   "cell_type": "code",
   "execution_count": null,
   "metadata": {},
   "outputs": [
    {
     "name": "stdout",
     "output_type": "stream",
     "text": [
      "원래 파일 폴더: ['대여이력정보(일별)_2310.csv', '대여이력정보(일별)_2311.csv', '대여이력정보(일별)_2312.csv', '대여이력정보(일별)_2207.csv', '대여이력정보(일별)_2212.csv', '대여이력정보(일별)_2210.csv', '대여이력정보(일별)_2211.csv', '\\x08대여이력정보(일별)_2307.csv', '대여이력정보(일별)_2208.csv', '대여이력정보(일별)_2209.csv', '대여이력정보(일별)_2308.csv', '대여이력정보(일별)_2309.csv']\n",
      "\n",
      "병합 진행중인 파일: 대여이력정보(일별)_2310.csv\n",
      "\n",
      "병합 진행중인 파일: 대여이력정보(일별)_2311.csv\n",
      "\n",
      "병합 진행중인 파일: 대여이력정보(일별)_2312.csv\n",
      "\n",
      "병합 진행중인 파일: 대여이력정보(일별)_2207.csv\n",
      "\n",
      "병합 진행중인 파일: 대여이력정보(일별)_2212.csv\n",
      "\n",
      "병합 진행중인 파일: 대여이력정보(일별)_2210.csv\n",
      "\n",
      "병합 진행중인 파일: 대여이력정보(일별)_2211.csv\n",
      "\n",
      "병합 진행중인 파일:대여이력정보(일별)_2307.csv\n",
      "\n",
      "병합 진행중인 파일: 대여이력정보(일별)_2208.csv\n",
      "\n",
      "병합 진행중인 파일: 대여이력정보(일별)_2209.csv\n",
      "\n",
      "병합 진행중인 파일: 대여이력정보(일별)_2308.csv\n",
      "\n",
      "병합 진행중인 파일: 대여이력정보(일별)_2309.csv\n",
      "\n"
     ]
    },
    {
     "data": {
      "text/plain": [
       "'모든 파일 병합 완료.'"
      ]
     },
     "execution_count": 9,
     "metadata": {},
     "output_type": "execute_result"
    }
   ],
   "source": [
    "read_path = './data/원본/대여'\n",
    "save_path = './data/원본/대여이력정보(일별)_'\n",
    "date_col = '대여일시'\n",
    "\n",
    "merge_files(read_path, save_path, date_col)"
   ]
  },
  {
   "cell_type": "markdown",
   "metadata": {},
   "source": [
    "## 신규가입정보 병합"
   ]
  },
  {
   "cell_type": "markdown",
   "metadata": {},
   "source": [
    "위의 데이터를 다음과 같이 병합:\n",
    "\n",
    "2022년 하반기 -> 신규가입자정보(일별)_2207-12.csv\n",
    "\n",
    "2023년 하반기 -> 신규가입자정보(일별)_2307-12.csv"
   ]
  },
  {
   "cell_type": "code",
   "execution_count": null,
   "metadata": {},
   "outputs": [
    {
     "data": {
      "text/html": [
       "<div>\n",
       "<style scoped>\n",
       "    .dataframe tbody tr th:only-of-type {\n",
       "        vertical-align: middle;\n",
       "    }\n",
       "\n",
       "    .dataframe tbody tr th {\n",
       "        vertical-align: top;\n",
       "    }\n",
       "\n",
       "    .dataframe thead th {\n",
       "        text-align: right;\n",
       "    }\n",
       "</style>\n",
       "<table border=\"1\" class=\"dataframe\">\n",
       "  <thead>\n",
       "    <tr style=\"text-align: right;\">\n",
       "      <th></th>\n",
       "      <th>자전거번호</th>\n",
       "      <th>등록일시</th>\n",
       "      <th>고장구분</th>\n",
       "    </tr>\n",
       "  </thead>\n",
       "  <tbody>\n",
       "    <tr>\n",
       "      <th>0</th>\n",
       "      <td>SPB-67589</td>\n",
       "      <td>2023-11-01 00:00:50</td>\n",
       "      <td>타이어</td>\n",
       "    </tr>\n",
       "    <tr>\n",
       "      <th>1</th>\n",
       "      <td>SPB-55524</td>\n",
       "      <td>2023-11-01 00:03:42</td>\n",
       "      <td>단말기</td>\n",
       "    </tr>\n",
       "    <tr>\n",
       "      <th>2</th>\n",
       "      <td>SPB-55524</td>\n",
       "      <td>2023-11-01 00:03:42</td>\n",
       "      <td>기타</td>\n",
       "    </tr>\n",
       "    <tr>\n",
       "      <th>3</th>\n",
       "      <td>SPB-34203</td>\n",
       "      <td>2023-11-01 00:04:17</td>\n",
       "      <td>단말기</td>\n",
       "    </tr>\n",
       "    <tr>\n",
       "      <th>4</th>\n",
       "      <td>SPB-31667</td>\n",
       "      <td>2023-11-01 00:12:11</td>\n",
       "      <td>타이어</td>\n",
       "    </tr>\n",
       "    <tr>\n",
       "      <th>...</th>\n",
       "      <td>...</td>\n",
       "      <td>...</td>\n",
       "      <td>...</td>\n",
       "    </tr>\n",
       "    <tr>\n",
       "      <th>67323</th>\n",
       "      <td>SPB-38802</td>\n",
       "      <td>2023-10-31 23:29:55</td>\n",
       "      <td>타이어</td>\n",
       "    </tr>\n",
       "    <tr>\n",
       "      <th>67324</th>\n",
       "      <td>SPB-35673</td>\n",
       "      <td>2023-10-31 23:34:17</td>\n",
       "      <td>타이어</td>\n",
       "    </tr>\n",
       "    <tr>\n",
       "      <th>67325</th>\n",
       "      <td>SPB-44079</td>\n",
       "      <td>2023-10-31 23:42:26</td>\n",
       "      <td>체인</td>\n",
       "    </tr>\n",
       "    <tr>\n",
       "      <th>67326</th>\n",
       "      <td>SPB-67068</td>\n",
       "      <td>2023-10-31 23:44:42</td>\n",
       "      <td>단말기</td>\n",
       "    </tr>\n",
       "    <tr>\n",
       "      <th>67327</th>\n",
       "      <td>SPB-57461</td>\n",
       "      <td>2023-10-31 23:46:35</td>\n",
       "      <td>체인</td>\n",
       "    </tr>\n",
       "  </tbody>\n",
       "</table>\n",
       "<p>89179 rows × 3 columns</p>\n",
       "</div>"
      ],
      "text/plain": [
       "           자전거번호                등록일시  고장구분\n",
       "0      SPB-67589 2023-11-01 00:00:50  타이어 \n",
       "1      SPB-55524 2023-11-01 00:03:42   단말기\n",
       "2      SPB-55524 2023-11-01 00:03:42   기타 \n",
       "3      SPB-34203 2023-11-01 00:04:17   단말기\n",
       "4      SPB-31667 2023-11-01 00:12:11  타이어 \n",
       "...          ...                 ...   ...\n",
       "67323  SPB-38802 2023-10-31 23:29:55  타이어 \n",
       "67324  SPB-35673 2023-10-31 23:34:17  타이어 \n",
       "67325  SPB-44079 2023-10-31 23:42:26    체인\n",
       "67326  SPB-67068 2023-10-31 23:44:42   단말기\n",
       "67327  SPB-57461 2023-10-31 23:46:35    체인\n",
       "\n",
       "[89179 rows x 3 columns]"
      ]
     },
     "execution_count": 45,
     "metadata": {},
     "output_type": "execute_result"
    }
   ],
   "source": [
    "read_path = './data/원본/신규'\n",
    "save_path = './data/원본/신규가입자정보(월별)_'\n",
    "date_col = ''\n",
    "\n",
    "merge_files(read_path, save_path, date_col)"
   ]
  },
  {
   "cell_type": "markdown",
   "metadata": {},
   "source": [
    "# 22년 23년 데이터 하나로 병합"
   ]
  },
  {
   "cell_type": "code",
   "execution_count": null,
   "metadata": {},
   "outputs": [],
   "source": [
    "# 신규가입자합산 정보\n",
    "df_newb = pd.read_csv('./data/원본/신규가입자합산값.csv')\n",
    "\n",
    "# 대여이력 정보\n",
    "df_rental22 = pd.read_csv('./data/원본/대여이력정보(일별)_2207-12.csv')\n",
    "df_rental23 = pd.read_csv('./data/원본/대여이력정보(일별)_2307-12.csv')\n",
    "\n",
    "# 고장신고내역\n",
    "df_broken22 = pd.read_csv('./data/원본/고장신고내역(일별)_2207-12.csv')\n",
    "df_broken23 = pd.read_csv('./data/원본/고장신고내역(일별)_2307-12.csv')\n",
    "\n",
    "# 대여이력 정보 병합\n",
    "df_rental = pd.concat([df_rental22, df_rental23], axis=0)\n",
    "# 대여이력 정보 병합\n",
    "df_broken = pd.concat([df_broken22, df_broken23], axis=0)"
   ]
  },
  {
   "cell_type": "code",
   "execution_count": null,
   "metadata": {},
   "outputs": [],
   "source": [
    "# pip3 install pyarrow\n",
    "# pip3 install fastparquet\n",
    "df_newb.to_parquet('./data/원본/parquet/신규가입자정보.parquet', engine='pyarrow', index=False)\n",
    "df_rental.to_parquet('./data/원본/parquet/대여이력정보.parquet', engine='pyarrow', index=False)\n",
    "df_broken.to_parquet('./data/원본/parquet/고장신고내역.parquet', engine='pyarrow', index=False)"
   ]
  },
  {
   "cell_type": "markdown",
   "metadata": {},
   "source": [
    "# 파일이 너무 커서 샘플링 및 팀원들에게 배포"
   ]
  },
  {
   "cell_type": "code",
   "execution_count": null,
   "metadata": {},
   "outputs": [],
   "source": [
    "df_newb = pd.read_csv('./data/원본/신규가입자합산값.csv')\n",
    "\n",
    "df_rental22 = pd.read_csv('./data/원본/대여이력정보(일별)_2207-12.csv')\n",
    "df_rental23 = pd.read_csv('./data/원본/대여이력정보(일별)_2307-12.csv')\n",
    "\n",
    "df_broken22 = pd.read_csv('./data/원본/고장신고내역(일별)_2207-12.csv')\n",
    "df_broken23 = pd.read_csv('./data/원본/고장신고내역(일별)_2307-12.csv')"
   ]
  },
  {
   "cell_type": "code",
   "execution_count": null,
   "metadata": {},
   "outputs": [],
   "source": [
    "df_rental22 = df_rental22[['자전거번호', '대여일시', '이용시간(분)', '생년', '성별', '대여대여소ID','반납대여소ID']]\n",
    "df_rental23 = df_rental23[['자전거번호', '대여일시', '이용시간(분)', '생년', '성별', '대여대여소ID','반납대여소ID']]\n",
    "\n",
    "df_rental22.to_csv('rental22_sample.csv', index=False)\n",
    "df_rental23.to_csv('rental23_sample.csv', index=False)"
   ]
  }
 ],
 "metadata": {
  "kernelspec": {
   "display_name": "Python 3",
   "language": "python",
   "name": "python3"
  },
  "language_info": {
   "codemirror_mode": {
    "name": "ipython",
    "version": 3
   },
   "file_extension": ".py",
   "mimetype": "text/x-python",
   "name": "python",
   "nbconvert_exporter": "python",
   "pygments_lexer": "ipython3",
   "version": "3.11.0"
  }
 },
 "nbformat": 4,
 "nbformat_minor": 2
}
