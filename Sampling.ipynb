{
 "cells": [
  {
   "cell_type": "code",
   "execution_count": 1,
   "metadata": {},
   "outputs": [
    {
     "name": "stderr",
     "output_type": "stream",
     "text": [
      "c:\\Users\\chane\\AppData\\Local\\Programs\\Python\\Python311\\Lib\\site-packages\\dask\\dataframe\\__init__.py:42: FutureWarning: \n",
      "Dask dataframe query planning is disabled because dask-expr is not installed.\n",
      "\n",
      "You can install it with `pip install dask[dataframe]` or `conda install dask`.\n",
      "This will raise in a future version.\n",
      "\n",
      "  warnings.warn(msg, FutureWarning)\n"
     ]
    }
   ],
   "source": [
    "import pyarrow\n",
    "import fastparquet\n",
    "import pandas as pd\n",
    "import dask.dataframe as dd\n"
   ]
  },
  {
   "cell_type": "code",
   "execution_count": 2,
   "metadata": {},
   "outputs": [
    {
     "name": "stdout",
     "output_type": "stream",
     "text": [
      "<class 'dask.dataframe.core.DataFrame'>\n",
      "Columns: 17 entries, 자전거번호 to 자전거구분\n",
      "dtypes: float64(1), int64(3), string(13)"
     ]
    }
   ],
   "source": [
    "df = dd.read_parquet('Data/원본/rental.parquet', engine='pyarrow')\n",
    "df.info()"
   ]
  },
  {
   "cell_type": "code",
   "execution_count": 3,
   "metadata": {},
   "outputs": [],
   "source": [
    "sampled_df = df.sample(frac=0.3, random_state=42)"
   ]
  },
  {
   "cell_type": "code",
   "execution_count": 4,
   "metadata": {},
   "outputs": [],
   "source": [
    "sampled_df_result = sampled_df.compute()"
   ]
  },
  {
   "cell_type": "code",
   "execution_count": 7,
   "metadata": {},
   "outputs": [],
   "source": [
    "sampled_df_result.to_parquet('rental.parquet')"
   ]
  },
  {
   "cell_type": "code",
   "execution_count": 9,
   "metadata": {},
   "outputs": [
    {
     "data": {
      "text/html": [
       "<div>\n",
       "<style scoped>\n",
       "    .dataframe tbody tr th:only-of-type {\n",
       "        vertical-align: middle;\n",
       "    }\n",
       "\n",
       "    .dataframe tbody tr th {\n",
       "        vertical-align: top;\n",
       "    }\n",
       "\n",
       "    .dataframe thead th {\n",
       "        text-align: right;\n",
       "    }\n",
       "</style>\n",
       "<table border=\"1\" class=\"dataframe\">\n",
       "  <thead>\n",
       "    <tr style=\"text-align: right;\">\n",
       "      <th></th>\n",
       "      <th>자전거번호</th>\n",
       "      <th>대여일시</th>\n",
       "      <th>대여 대여소번호</th>\n",
       "      <th>대여 대여소명</th>\n",
       "      <th>대여거치대</th>\n",
       "      <th>반납일시</th>\n",
       "      <th>반납대여소번호</th>\n",
       "      <th>반납대여소명</th>\n",
       "      <th>반납거치대</th>\n",
       "      <th>이용시간(분)</th>\n",
       "      <th>이용거리(M)</th>\n",
       "      <th>생년</th>\n",
       "      <th>성별</th>\n",
       "      <th>이용자종류</th>\n",
       "      <th>대여대여소ID</th>\n",
       "      <th>반납대여소ID</th>\n",
       "      <th>자전거구분</th>\n",
       "    </tr>\n",
       "  </thead>\n",
       "  <tbody>\n",
       "    <tr>\n",
       "      <th>725219</th>\n",
       "      <td>SPB-44443</td>\n",
       "      <td>2022-09-23 10:14:47</td>\n",
       "      <td>3307</td>\n",
       "      <td>봉천고개 육교</td>\n",
       "      <td>0</td>\n",
       "      <td>2022-09-23 10:21:05</td>\n",
       "      <td>02024</td>\n",
       "      <td>상도역 1번출구</td>\n",
       "      <td>0</td>\n",
       "      <td>6</td>\n",
       "      <td>1277.78</td>\n",
       "      <td>1963</td>\n",
       "      <td>M</td>\n",
       "      <td>내국인</td>\n",
       "      <td>ST-2391</td>\n",
       "      <td>ST-691</td>\n",
       "      <td>&lt;NA&gt;</td>\n",
       "    </tr>\n",
       "    <tr>\n",
       "      <th>1263585</th>\n",
       "      <td>SPB-57204</td>\n",
       "      <td>2022-07-03 01:45:18</td>\n",
       "      <td>2908</td>\n",
       "      <td>광운대학교 중앙도서관</td>\n",
       "      <td>0</td>\n",
       "      <td>2022-07-03 01:52:45</td>\n",
       "      <td>01334</td>\n",
       "      <td>석관동주민센터 앞</td>\n",
       "      <td>0</td>\n",
       "      <td>7</td>\n",
       "      <td>1020.00</td>\n",
       "      <td>1998</td>\n",
       "      <td>&lt;NA&gt;</td>\n",
       "      <td>내국인</td>\n",
       "      <td>ST-2074</td>\n",
       "      <td>ST-580</td>\n",
       "      <td>&lt;NA&gt;</td>\n",
       "    </tr>\n",
       "    <tr>\n",
       "      <th>323870</th>\n",
       "      <td>SPB-38259</td>\n",
       "      <td>2022-08-28 18:19:28</td>\n",
       "      <td>431</td>\n",
       "      <td>청계천 영도교</td>\n",
       "      <td>0</td>\n",
       "      <td>2022-08-28 19:03:11</td>\n",
       "      <td>00318</td>\n",
       "      <td>광교사거리 남측</td>\n",
       "      <td>0</td>\n",
       "      <td>43</td>\n",
       "      <td>3448.55</td>\n",
       "      <td>1980</td>\n",
       "      <td>\\N</td>\n",
       "      <td>내국인</td>\n",
       "      <td>ST-1440</td>\n",
       "      <td>ST-134</td>\n",
       "      <td>&lt;NA&gt;</td>\n",
       "    </tr>\n",
       "    <tr>\n",
       "      <th>903186</th>\n",
       "      <td>SPB-54813</td>\n",
       "      <td>2023-12-07 17:32:42</td>\n",
       "      <td>183</td>\n",
       "      <td>하늘채코오롱아파트 건너편</td>\n",
       "      <td>0</td>\n",
       "      <td>2023-12-07 17:54:42</td>\n",
       "      <td>00111</td>\n",
       "      <td>상수역 2번출구 앞</td>\n",
       "      <td>0</td>\n",
       "      <td>22</td>\n",
       "      <td>2295.56</td>\n",
       "      <td>1995</td>\n",
       "      <td>\\N</td>\n",
       "      <td>내국인</td>\n",
       "      <td>ST-341</td>\n",
       "      <td>ST-15</td>\n",
       "      <td>일반자전거</td>\n",
       "    </tr>\n",
       "    <tr>\n",
       "      <th>173768</th>\n",
       "      <td>SPB-33958</td>\n",
       "      <td>2023-10-04 04:29:46</td>\n",
       "      <td>3986</td>\n",
       "      <td>청년주택 독산동점</td>\n",
       "      <td>0</td>\n",
       "      <td>2023-10-04 05:34:41</td>\n",
       "      <td>00280</td>\n",
       "      <td>양평동6차현대아파트 앞</td>\n",
       "      <td>0</td>\n",
       "      <td>64</td>\n",
       "      <td>9341.28</td>\n",
       "      <td>\\N</td>\n",
       "      <td>\\N</td>\n",
       "      <td>비회원</td>\n",
       "      <td>ST-3196</td>\n",
       "      <td>ST-1539</td>\n",
       "      <td>일반자전거</td>\n",
       "    </tr>\n",
       "  </tbody>\n",
       "</table>\n",
       "</div>"
      ],
      "text/plain": [
       "             자전거번호                 대여일시  대여 대여소번호        대여 대여소명  대여거치대   \n",
       "725219   SPB-44443  2022-09-23 10:14:47      3307        봉천고개 육교      0  \\\n",
       "1263585  SPB-57204  2022-07-03 01:45:18      2908    광운대학교 중앙도서관      0   \n",
       "323870   SPB-38259  2022-08-28 18:19:28       431        청계천 영도교      0   \n",
       "903186   SPB-54813  2023-12-07 17:32:42       183  하늘채코오롱아파트 건너편      0   \n",
       "173768   SPB-33958  2023-10-04 04:29:46      3986      청년주택 독산동점      0   \n",
       "\n",
       "                        반납일시 반납대여소번호        반납대여소명 반납거치대  이용시간(분)  이용거리(M)   \n",
       "725219   2022-09-23 10:21:05   02024      상도역 1번출구     0        6  1277.78  \\\n",
       "1263585  2022-07-03 01:52:45   01334     석관동주민센터 앞     0        7  1020.00   \n",
       "323870   2022-08-28 19:03:11   00318      광교사거리 남측     0       43  3448.55   \n",
       "903186   2023-12-07 17:54:42   00111    상수역 2번출구 앞     0       22  2295.56   \n",
       "173768   2023-10-04 05:34:41   00280  양평동6차현대아파트 앞     0       64  9341.28   \n",
       "\n",
       "           생년    성별 이용자종류  대여대여소ID  반납대여소ID  자전거구분  \n",
       "725219   1963     M   내국인  ST-2391   ST-691   <NA>  \n",
       "1263585  1998  <NA>   내국인  ST-2074   ST-580   <NA>  \n",
       "323870   1980    \\N   내국인  ST-1440   ST-134   <NA>  \n",
       "903186   1995    \\N   내국인   ST-341    ST-15  일반자전거  \n",
       "173768     \\N    \\N   비회원  ST-3196  ST-1539  일반자전거  "
      ]
     },
     "execution_count": 9,
     "metadata": {},
     "output_type": "execute_result"
    }
   ],
   "source": [
    "sampled_df.tail()"
   ]
  },
  {
   "cell_type": "code",
   "execution_count": 5,
   "metadata": {},
   "outputs": [
    {
     "ename": "FileExistsError",
     "evalue": "[WinError 183] 파일이 이미 있으므로 만들 수 없습니다: 'c:/Users/chane/Desktop/코드잇 자료/초급 프로젝트/TransLab/rental22_sampled_50.csv'",
     "output_type": "error",
     "traceback": [
      "\u001b[1;31m---------------------------------------------------------------------------\u001b[0m",
      "\u001b[1;31mFileExistsError\u001b[0m                           Traceback (most recent call last)",
      "Cell \u001b[1;32mIn[5], line 1\u001b[0m\n\u001b[1;32m----> 1\u001b[0m \u001b[43msampled_df\u001b[49m\u001b[38;5;241;43m.\u001b[39;49m\u001b[43mto_csv\u001b[49m\u001b[43m(\u001b[49m\u001b[38;5;124;43m'\u001b[39;49m\u001b[38;5;124;43mrental22_sampled_50.csv\u001b[39;49m\u001b[38;5;124;43m'\u001b[39;49m\u001b[43m,\u001b[49m\u001b[43m \u001b[49m\u001b[43mindex\u001b[49m\u001b[38;5;241;43m=\u001b[39;49m\u001b[38;5;28;43;01mFalse\u001b[39;49;00m\u001b[43m)\u001b[49m\n",
      "File \u001b[1;32mc:\\Users\\chane\\AppData\\Local\\Programs\\Python\\Python311\\Lib\\site-packages\\dask\\dataframe\\core.py:2032\u001b[0m, in \u001b[0;36m_Frame.to_csv\u001b[1;34m(self, filename, **kwargs)\u001b[0m\n\u001b[0;32m   2029\u001b[0m \u001b[38;5;250m\u001b[39m\u001b[38;5;124;03m\"\"\"See dd.to_csv docstring for more information\"\"\"\u001b[39;00m\n\u001b[0;32m   2030\u001b[0m \u001b[38;5;28;01mfrom\u001b[39;00m \u001b[38;5;21;01mdask\u001b[39;00m\u001b[38;5;21;01m.\u001b[39;00m\u001b[38;5;21;01mdataframe\u001b[39;00m\u001b[38;5;21;01m.\u001b[39;00m\u001b[38;5;21;01mio\u001b[39;00m \u001b[38;5;28;01mimport\u001b[39;00m to_csv\n\u001b[1;32m-> 2032\u001b[0m \u001b[38;5;28;01mreturn\u001b[39;00m \u001b[43mto_csv\u001b[49m\u001b[43m(\u001b[49m\u001b[38;5;28;43mself\u001b[39;49m\u001b[43m,\u001b[49m\u001b[43m \u001b[49m\u001b[43mfilename\u001b[49m\u001b[43m,\u001b[49m\u001b[43m \u001b[49m\u001b[38;5;241;43m*\u001b[39;49m\u001b[38;5;241;43m*\u001b[39;49m\u001b[43mkwargs\u001b[49m\u001b[43m)\u001b[49m\n",
      "File \u001b[1;32mc:\\Users\\chane\\AppData\\Local\\Programs\\Python\\Python311\\Lib\\site-packages\\dask\\dataframe\\io\\csv.py:963\u001b[0m, in \u001b[0;36mto_csv\u001b[1;34m(df, filename, single_file, encoding, mode, name_function, compression, compute, scheduler, storage_options, header_first_partition_only, compute_kwargs, **kwargs)\u001b[0m\n\u001b[0;32m    961\u001b[0m     files \u001b[38;5;241m=\u001b[39m [first_file]\n\u001b[0;32m    962\u001b[0m \u001b[38;5;28;01melse\u001b[39;00m:\n\u001b[1;32m--> 963\u001b[0m     files \u001b[38;5;241m=\u001b[39m \u001b[43mopen_files\u001b[49m\u001b[43m(\u001b[49m\n\u001b[0;32m    964\u001b[0m \u001b[43m        \u001b[49m\u001b[43mfilename\u001b[49m\u001b[43m,\u001b[49m\n\u001b[0;32m    965\u001b[0m \u001b[43m        \u001b[49m\u001b[43mmode\u001b[49m\u001b[38;5;241;43m=\u001b[39;49m\u001b[43mmode\u001b[49m\u001b[43m,\u001b[49m\n\u001b[0;32m    966\u001b[0m \u001b[43m        \u001b[49m\u001b[43mname_function\u001b[49m\u001b[38;5;241;43m=\u001b[39;49m\u001b[43mname_function\u001b[49m\u001b[43m,\u001b[49m\n\u001b[0;32m    967\u001b[0m \u001b[43m        \u001b[49m\u001b[43mnum\u001b[49m\u001b[38;5;241;43m=\u001b[39;49m\u001b[43mdf\u001b[49m\u001b[38;5;241;43m.\u001b[39;49m\u001b[43mnpartitions\u001b[49m\u001b[43m,\u001b[49m\n\u001b[0;32m    968\u001b[0m \u001b[43m        \u001b[49m\u001b[38;5;241;43m*\u001b[39;49m\u001b[38;5;241;43m*\u001b[39;49m\u001b[43mfile_options\u001b[49m\u001b[43m,\u001b[49m\n\u001b[0;32m    969\u001b[0m \u001b[43m    \u001b[49m\u001b[43m)\u001b[49m\n\u001b[0;32m    970\u001b[0m     values \u001b[38;5;241m=\u001b[39m [to_csv_chunk(dfs[\u001b[38;5;241m0\u001b[39m], files[\u001b[38;5;241m0\u001b[39m], \u001b[38;5;241m*\u001b[39m\u001b[38;5;241m*\u001b[39mkwargs)]\n\u001b[0;32m    971\u001b[0m     \u001b[38;5;28;01mif\u001b[39;00m header_first_partition_only:\n",
      "File \u001b[1;32mc:\\Users\\chane\\AppData\\Local\\Programs\\Python\\Python311\\Lib\\site-packages\\fsspec\\core.py:298\u001b[0m, in \u001b[0;36mopen_files\u001b[1;34m(urlpath, mode, compression, encoding, errors, name_function, num, protocol, newline, auto_mkdir, expand, **kwargs)\u001b[0m\n\u001b[0;32m    296\u001b[0m \u001b[38;5;28;01mfor\u001b[39;00m parent \u001b[38;5;129;01min\u001b[39;00m parents:\n\u001b[0;32m    297\u001b[0m     \u001b[38;5;28;01mtry\u001b[39;00m:\n\u001b[1;32m--> 298\u001b[0m         \u001b[43mfs\u001b[49m\u001b[38;5;241;43m.\u001b[39;49m\u001b[43mmakedirs\u001b[49m\u001b[43m(\u001b[49m\u001b[43mparent\u001b[49m\u001b[43m,\u001b[49m\u001b[43m \u001b[49m\u001b[43mexist_ok\u001b[49m\u001b[38;5;241;43m=\u001b[39;49m\u001b[38;5;28;43;01mTrue\u001b[39;49;00m\u001b[43m)\u001b[49m\n\u001b[0;32m    299\u001b[0m     \u001b[38;5;28;01mexcept\u001b[39;00m \u001b[38;5;167;01mPermissionError\u001b[39;00m:\n\u001b[0;32m    300\u001b[0m         \u001b[38;5;28;01mpass\u001b[39;00m\n",
      "File \u001b[1;32mc:\\Users\\chane\\AppData\\Local\\Programs\\Python\\Python311\\Lib\\site-packages\\fsspec\\implementations\\local.py:53\u001b[0m, in \u001b[0;36mLocalFileSystem.makedirs\u001b[1;34m(self, path, exist_ok)\u001b[0m\n\u001b[0;32m     51\u001b[0m \u001b[38;5;28;01mdef\u001b[39;00m \u001b[38;5;21mmakedirs\u001b[39m(\u001b[38;5;28mself\u001b[39m, path, exist_ok\u001b[38;5;241m=\u001b[39m\u001b[38;5;28;01mFalse\u001b[39;00m):\n\u001b[0;32m     52\u001b[0m     path \u001b[38;5;241m=\u001b[39m \u001b[38;5;28mself\u001b[39m\u001b[38;5;241m.\u001b[39m_strip_protocol(path)\n\u001b[1;32m---> 53\u001b[0m     \u001b[43mos\u001b[49m\u001b[38;5;241;43m.\u001b[39;49m\u001b[43mmakedirs\u001b[49m\u001b[43m(\u001b[49m\u001b[43mpath\u001b[49m\u001b[43m,\u001b[49m\u001b[43m \u001b[49m\u001b[43mexist_ok\u001b[49m\u001b[38;5;241;43m=\u001b[39;49m\u001b[43mexist_ok\u001b[49m\u001b[43m)\u001b[49m\n",
      "File \u001b[1;32m<frozen os>:225\u001b[0m, in \u001b[0;36mmakedirs\u001b[1;34m(name, mode, exist_ok)\u001b[0m\n",
      "\u001b[1;31mFileExistsError\u001b[0m: [WinError 183] 파일이 이미 있으므로 만들 수 없습니다: 'c:/Users/chane/Desktop/코드잇 자료/초급 프로젝트/TransLab/rental22_sampled_50.csv'"
     ]
    }
   ],
   "source": [
    "sampled_df.to_csv('rental22_sampled_50.csv', index=False)"
   ]
  },
  {
   "cell_type": "code",
   "execution_count": 11,
   "metadata": {},
   "outputs": [],
   "source": [
    "del(df_2022)"
   ]
  },
  {
   "cell_type": "code",
   "execution_count": 12,
   "metadata": {},
   "outputs": [],
   "source": [
    "del(sampled_df)"
   ]
  },
  {
   "cell_type": "code",
   "execution_count": 13,
   "metadata": {},
   "outputs": [],
   "source": [
    "df_2023 = pd.read_csv('Data/원본/rental23_sample.csv')"
   ]
  },
  {
   "cell_type": "code",
   "execution_count": 14,
   "metadata": {},
   "outputs": [],
   "source": [
    "sampled_df = df_2023.sample(frac=0.5, random_state=42)"
   ]
  },
  {
   "cell_type": "code",
   "execution_count": 15,
   "metadata": {},
   "outputs": [
    {
     "data": {
      "text/plain": [
       "(12026747, 7)"
      ]
     },
     "execution_count": 15,
     "metadata": {},
     "output_type": "execute_result"
    }
   ],
   "source": [
    "sampled_df.shape"
   ]
  },
  {
   "cell_type": "code",
   "execution_count": 16,
   "metadata": {},
   "outputs": [],
   "source": [
    "sampled_df.to_csv('rental23_sampled_50.csv', index=False)"
   ]
  },
  {
   "cell_type": "code",
   "execution_count": null,
   "metadata": {},
   "outputs": [],
   "source": []
  }
 ],
 "metadata": {
  "kernelspec": {
   "display_name": "Python 3",
   "language": "python",
   "name": "python3"
  },
  "language_info": {
   "codemirror_mode": {
    "name": "ipython",
    "version": 3
   },
   "file_extension": ".py",
   "mimetype": "text/x-python",
   "name": "python",
   "nbconvert_exporter": "python",
   "pygments_lexer": "ipython3",
   "version": "3.11.0"
  }
 },
 "nbformat": 4,
 "nbformat_minor": 2
}
