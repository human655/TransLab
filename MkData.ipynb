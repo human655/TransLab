{
 "cells": [
  {
   "cell_type": "code",
   "execution_count": 1,
   "metadata": {},
   "outputs": [],
   "source": [
    "import pandas as pd\n",
    "import os "
   ]
  },
  {
   "cell_type": "code",
   "execution_count": 2,
   "metadata": {},
   "outputs": [],
   "source": [
    "def merge_files(read_path: str, save_path: str, date_col: str) -> str:\n",
    "    broken_file_path = read_path\n",
    "    broken_data_dir = os.listdir(broken_file_path)\n",
    "    print(f'원래 파일 폴더: {broken_data_dir}\\n')\n",
    "\n",
    "    df22 = pd.DataFrame()\n",
    "    df23 = pd.DataFrame()\n",
    "    for file in broken_data_dir:\n",
    "        print(f'병합 진행중인 파일: {file}\\n')\n",
    "        try:\n",
    "            # try csv\n",
    "            df = pd.read_csv(f'{broken_file_path}/{file}', encoding='cp949')\n",
    "        except:\n",
    "            # else excel\n",
    "            df = pd.read_excel(f'{broken_file_path}/{file}')\n",
    "        # convert to datetime\n",
    "        df[date_col] = pd.to_datetime(df[date_col])\n",
    "        \n",
    "        # if year 2022\n",
    "        df22_new = df.loc[(df[date_col].dt.month.isin([month for month in range(6, 13)])) & (df[date_col].dt.year == 2022)]\n",
    "        df22 = pd.concat([df22, df22_new], axis=0)\n",
    "        df22 = df22.sort_values(by=date_col)\n",
    "        \n",
    "        # if year 2023\n",
    "        df23_new = df.loc[(df[date_col].dt.month.isin([month for month in range(6, 13)])) & (df[date_col].dt.year == 2023)]\n",
    "        df23 = pd.concat([df23, df23_new], axis=0)\n",
    "        df23 = df23.sort_values(by=date_col)\n",
    "    \n",
    "    # save files\n",
    "    #df22.to_csv(f'{save_path}2207-12.csv', index=False)\n",
    "    df23.to_csv(f'{save_path}2307-12.csv', index=False)\n",
    "        \n",
    "    return f'모든 파일 병합 완료.'"
   ]
  },
  {
   "cell_type": "code",
   "execution_count": 3,
   "metadata": {},
   "outputs": [
    {
     "name": "stdout",
     "output_type": "stream",
     "text": [
      "원래 파일 폴더: ['서울시 공공자전거 고장신고 내역_22.07-12.csv', '서울시 공공자전거 고장신고 내역_23.11-12.csv', '서울시 공공자전거 고장신고 내역_23.7-10.csv']\n",
      "\n",
      "병합 진행중인 파일: 서울시 공공자전거 고장신고 내역_22.07-12.csv\n",
      "\n",
      "병합 진행중인 파일: 서울시 공공자전거 고장신고 내역_23.11-12.csv\n",
      "\n",
      "병합 진행중인 파일: 서울시 공공자전거 고장신고 내역_23.7-10.csv\n",
      "\n"
     ]
    },
    {
     "data": {
      "text/plain": [
       "'모든 파일 병합 완료.'"
      ]
     },
     "execution_count": 3,
     "metadata": {},
     "output_type": "execute_result"
    }
   ],
   "source": [
    "read_path = 'Data/원본/고장'\n",
    "save_path = 'Data/원본/고장신고내역(일별)_'\n",
    "date_col = '등록일시'\n",
    "\n",
    "merge_files(read_path, save_path, date_col)"
   ]
  },
  {
   "cell_type": "code",
   "execution_count": 3,
   "metadata": {},
   "outputs": [
    {
     "name": "stdout",
     "output_type": "stream",
     "text": [
      "원래 파일 폴더: ['서울특별시 공공자전거 대여이력 정보_2307.csv', '서울특별시 공공자전거 대여이력 정보_2308.csv', '서울특별시 공공자전거 대여이력 정보_2309.csv', '서울특별시 공공자전거 대여이력 정보_2310.csv', '서울특별시 공공자전거 대여이력 정보_2311.csv', '서울특별시 공공자전거 대여이력 정보_2312.csv']\n",
      "\n",
      "병합 진행중인 파일: 서울특별시 공공자전거 대여이력 정보_2307.csv\n",
      "\n",
      "병합 진행중인 파일: 서울특별시 공공자전거 대여이력 정보_2308.csv\n",
      "\n",
      "병합 진행중인 파일: 서울특별시 공공자전거 대여이력 정보_2309.csv\n",
      "\n",
      "병합 진행중인 파일: 서울특별시 공공자전거 대여이력 정보_2310.csv\n",
      "\n",
      "병합 진행중인 파일: 서울특별시 공공자전거 대여이력 정보_2311.csv\n",
      "\n",
      "병합 진행중인 파일: 서울특별시 공공자전거 대여이력 정보_2312.csv\n",
      "\n"
     ]
    },
    {
     "data": {
      "text/plain": [
       "'모든 파일 병합 완료.'"
      ]
     },
     "execution_count": 3,
     "metadata": {},
     "output_type": "execute_result"
    }
   ],
   "source": [
    "# 대여이력정보 데이터\n",
    "read_path = 'Data/원본/대여/23'\n",
    "save_path = 'Data/원본/대여이력정보(일별)_'\n",
    "date_col = '대여일시'\n",
    "\n",
    "merge_files(read_path, save_path, date_col)"
   ]
  },
  {
   "cell_type": "code",
   "execution_count": null,
   "metadata": {},
   "outputs": [],
   "source": []
  },
  {
   "cell_type": "code",
   "execution_count": null,
   "metadata": {},
   "outputs": [],
   "source": []
  }
 ],
 "metadata": {
  "kernelspec": {
   "display_name": "Python 3 (ipykernel)",
   "language": "python",
   "name": "python3"
  },
  "language_info": {
   "codemirror_mode": {
    "name": "ipython",
    "version": 3
   },
   "file_extension": ".py",
   "mimetype": "text/x-python",
   "name": "python",
   "nbconvert_exporter": "python",
   "pygments_lexer": "ipython3",
   "version": "3.11.0"
  }
 },
 "nbformat": 4,
 "nbformat_minor": 2
}
